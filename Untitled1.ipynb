{
 "cells": [
  {
   "cell_type": "code",
   "execution_count": 1,
   "id": "79fb3a0f-3c8a-478a-85f2-3bf2a6e61fa7",
   "metadata": {},
   "outputs": [
    {
     "name": "stdout",
     "output_type": "stream",
     "text": [
      "The quarter for 2023-08-22 is Q3.\n"
     ]
    }
   ],
   "source": [
    "import datetime\n",
    "\n",
    "def get_quarter(date):\n",
    "    month = date.month\n",
    "    quarter = (month - 1) // 3 + 1\n",
    "    return f\"Q{quarter}\"\n",
    "\n",
    "# Example usage\n",
    "date = datetime.date(2023, 8, 22)\n",
    "quarter = get_quarter(date)\n",
    "print(f\"The quarter for {date} is {quarter}.\")"
   ]
  },
  {
   "cell_type": "code",
   "execution_count": 2,
   "id": "5f9162f2-6c19-401e-9168-f606ee51cdeb",
   "metadata": {},
   "outputs": [
    {
     "data": {
      "text/plain": [
       "datetime.datetime(2022, 8, 22, 0, 0)"
      ]
     },
     "execution_count": 2,
     "metadata": {},
     "output_type": "execute_result"
    }
   ],
   "source": [
    "date_str = \"2022-08-22\"\n",
    "date_obj = datetime.datetime.strptime(date_str, \"%Y-%m-%d\")\n",
    "date_obj"
   ]
  },
  {
   "cell_type": "code",
   "execution_count": null,
   "id": "43f72a07-b6b5-41d3-a9ff-8106f35f3005",
   "metadata": {},
   "outputs": [],
   "source": [
    "bin/uc function create --full_name unity.default.dateToQuarter --data_type STRING --input_params \"date_str string\" --language \"python\" --def \"import datetime\\ndate = datetime.datetime.strptime(date_str, '%Y-%m-%d')\\nquarter = (date.month - 1) // 3 + 1\\nreturn print(f'The quarter for the provided date is: Q{quarter}.')\""
   ]
  }
 ],
 "metadata": {
  "kernelspec": {
   "display_name": "Python 3 (ipykernel)",
   "language": "python",
   "name": "python3"
  },
  "language_info": {
   "codemirror_mode": {
    "name": "ipython",
    "version": 3
   },
   "file_extension": ".py",
   "mimetype": "text/x-python",
   "name": "python",
   "nbconvert_exporter": "python",
   "pygments_lexer": "ipython3",
   "version": "3.11.0"
  }
 },
 "nbformat": 4,
 "nbformat_minor": 5
}
