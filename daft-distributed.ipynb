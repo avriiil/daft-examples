{
 "cells": [
  {
   "cell_type": "code",
   "execution_count": null,
   "id": "1c799f0a-42a8-4005-9d2f-ecfbad38a3ce",
   "metadata": {},
   "outputs": [],
   "source": [
    "## TO DO\n",
    "# 1. Don't assume folks know Ray. What is Ray? How do I spin up a cluster?\n",
    "# 2. Get some test data\n",
    "# 3. Get actual data for tutorial\n",
    "# 4. "
   ]
  },
  {
   "cell_type": "markdown",
   "id": "fb76a323-44bd-4aca-b881-261622655d12",
   "metadata": {},
   "source": [
    "# Distributed Computing with Daft\n",
    "\n",
    "Daft is built to give you fast compute, wherever you run your computations. \n",
    "\n",
    "This tutorial will show you how you can use Daft to maximize your local and cloud resources with parallel and distributed computing. \n",
    "\n",
    "### Parallel Computing\n",
    "You can easily use Daft to run computations in parallel on your local machine for small to medium-sized datasets. This is the default setup.\n",
    "\n",
    "### Cloud Computing\n",
    "When your datasets get too big to run on a single machine, you can use the same Daft code to run your computations on a remote cluster in the cloud. All you need to do is point Daft to the cluster at the beginning of your script.\n",
    "\n",
    "We will demo 3 setups in this tutorial:\n",
    "1. Local parallel with Daft defaults\n",
    "2. Local multi-core with Daft on Ray\n",
    "3. Cloud distributed computing with Daft on Ray"
   ]
  },
  {
   "cell_type": "markdown",
   "id": "da7a7cac-a62e-41de-a9da-5179a849b153",
   "metadata": {},
   "source": [
    "## Setup"
   ]
  },
  {
   "cell_type": "markdown",
   "id": "11026d8f-867a-453f-acb0-aee161f6c488",
   "metadata": {},
   "source": [
    "You will need to install the following libraries to run this tutorial:"
   ]
  },
  {
   "cell_type": "code",
   "execution_count": null,
   "id": "bf2d7226-057b-487a-a1a9-6d52ef0aa9af",
   "metadata": {},
   "outputs": [],
   "source": [
    "!pip install -U getdaft pandas \"ray[default]\" boto3"
   ]
  },
  {
   "cell_type": "markdown",
   "id": "3a7335d7-f2d1-47a8-9c83-c52f2a6421b9",
   "metadata": {},
   "source": [
    "## Local Parallel Computing with Daft"
   ]
  },
  {
   "cell_type": "markdown",
   "id": "dcab608e-f8c1-4e6e-8211-dbdf6a33ba3c",
   "metadata": {},
   "source": [
    "By default, Daft will run computation in parallel on all of your local machine’s resources. Daft uses local Python multithreading to do this.\n",
    "\n",
    "This is faster than libraries like `pandas` which use only a single core by default."
   ]
  },
  {
   "cell_type": "code",
   "execution_count": null,
   "id": "aa835122-b694-4052-be21-ea0fc11d0378",
   "metadata": {},
   "outputs": [],
   "source": [
    "# example of Daft being faster than pandas here or OOM"
   ]
  },
  {
   "cell_type": "code",
   "execution_count": 1,
   "id": "0e80d29c-6171-4c71-9ca6-3fdae21b0fd8",
   "metadata": {},
   "outputs": [],
   "source": [
    "import daft"
   ]
  },
  {
   "cell_type": "code",
   "execution_count": 2,
   "id": "35554de3-f417-47d9-b80d-4eb9f3d42b17",
   "metadata": {},
   "outputs": [],
   "source": [
    "head_ip = \"18.171.243.103\"\n",
    "port = \"8265\""
   ]
  },
  {
   "cell_type": "code",
   "execution_count": null,
   "id": "4bf13e97-188e-4dac-8535-367fef0bf919",
   "metadata": {},
   "outputs": [],
   "source": []
  },
  {
   "cell_type": "code",
   "execution_count": 4,
   "id": "962762df-1961-4bce-98f3-4b1eb08a926f",
   "metadata": {},
   "outputs": [
    {
     "ename": "ConnectionError",
     "evalue": "ray client connection timeout",
     "output_type": "error",
     "traceback": [
      "\u001b[0;31m---------------------------------------------------------------------------\u001b[0m",
      "\u001b[0;31mConnectionError\u001b[0m                           Traceback (most recent call last)",
      "Cell \u001b[0;32mIn[4], line 2\u001b[0m\n\u001b[1;32m      1\u001b[0m \u001b[38;5;28;01mimport\u001b[39;00m \u001b[38;5;21;01mray\u001b[39;00m\n\u001b[0;32m----> 2\u001b[0m \u001b[43mray\u001b[49m\u001b[38;5;241;43m.\u001b[39;49m\u001b[43minit\u001b[49m\u001b[43m(\u001b[49m\u001b[38;5;124;43m\"\u001b[39;49m\u001b[38;5;124;43mray://localhost:10001\u001b[39;49m\u001b[38;5;124;43m\"\u001b[39;49m\u001b[43m)\u001b[49m\n",
      "File \u001b[0;32m~/miniforge3/envs/daft-ray/lib/python3.11/site-packages/ray/_private/client_mode_hook.py:103\u001b[0m, in \u001b[0;36mclient_mode_hook.<locals>.wrapper\u001b[0;34m(*args, **kwargs)\u001b[0m\n\u001b[1;32m    101\u001b[0m     \u001b[38;5;28;01mif\u001b[39;00m func\u001b[38;5;241m.\u001b[39m\u001b[38;5;18m__name__\u001b[39m \u001b[38;5;241m!=\u001b[39m \u001b[38;5;124m\"\u001b[39m\u001b[38;5;124minit\u001b[39m\u001b[38;5;124m\"\u001b[39m \u001b[38;5;129;01mor\u001b[39;00m is_client_mode_enabled_by_default:\n\u001b[1;32m    102\u001b[0m         \u001b[38;5;28;01mreturn\u001b[39;00m \u001b[38;5;28mgetattr\u001b[39m(ray, func\u001b[38;5;241m.\u001b[39m\u001b[38;5;18m__name__\u001b[39m)(\u001b[38;5;241m*\u001b[39margs, \u001b[38;5;241m*\u001b[39m\u001b[38;5;241m*\u001b[39mkwargs)\n\u001b[0;32m--> 103\u001b[0m \u001b[38;5;28;01mreturn\u001b[39;00m \u001b[43mfunc\u001b[49m\u001b[43m(\u001b[49m\u001b[38;5;241;43m*\u001b[39;49m\u001b[43margs\u001b[49m\u001b[43m,\u001b[49m\u001b[43m \u001b[49m\u001b[38;5;241;43m*\u001b[39;49m\u001b[38;5;241;43m*\u001b[39;49m\u001b[43mkwargs\u001b[49m\u001b[43m)\u001b[49m\n",
      "File \u001b[0;32m~/miniforge3/envs/daft-ray/lib/python3.11/site-packages/ray/_private/worker.py:1483\u001b[0m, in \u001b[0;36minit\u001b[0;34m(address, num_cpus, num_gpus, resources, labels, object_store_memory, local_mode, ignore_reinit_error, include_dashboard, dashboard_host, dashboard_port, job_config, configure_logging, logging_level, logging_format, logging_config, log_to_driver, namespace, runtime_env, storage, **kwargs)\u001b[0m\n\u001b[1;32m   1481\u001b[0m passed_kwargs\u001b[38;5;241m.\u001b[39mupdate(kwargs)\n\u001b[1;32m   1482\u001b[0m builder\u001b[38;5;241m.\u001b[39m_init_args(\u001b[38;5;241m*\u001b[39m\u001b[38;5;241m*\u001b[39mpassed_kwargs)\n\u001b[0;32m-> 1483\u001b[0m ctx \u001b[38;5;241m=\u001b[39m \u001b[43mbuilder\u001b[49m\u001b[38;5;241;43m.\u001b[39;49m\u001b[43mconnect\u001b[49m\u001b[43m(\u001b[49m\u001b[43m)\u001b[49m\n\u001b[1;32m   1484\u001b[0m \u001b[38;5;28;01mfrom\u001b[39;00m \u001b[38;5;21;01mray\u001b[39;00m\u001b[38;5;21;01m.\u001b[39;00m\u001b[38;5;21;01m_private\u001b[39;00m\u001b[38;5;21;01m.\u001b[39;00m\u001b[38;5;21;01musage\u001b[39;00m \u001b[38;5;28;01mimport\u001b[39;00m usage_lib\n\u001b[1;32m   1486\u001b[0m \u001b[38;5;28;01mif\u001b[39;00m passed_kwargs\u001b[38;5;241m.\u001b[39mget(\u001b[38;5;124m\"\u001b[39m\u001b[38;5;124mallow_multiple\u001b[39m\u001b[38;5;124m\"\u001b[39m) \u001b[38;5;129;01mis\u001b[39;00m \u001b[38;5;28;01mTrue\u001b[39;00m:\n",
      "File \u001b[0;32m~/miniforge3/envs/daft-ray/lib/python3.11/site-packages/ray/client_builder.py:175\u001b[0m, in \u001b[0;36mClientBuilder.connect\u001b[0;34m(self)\u001b[0m\n\u001b[1;32m    172\u001b[0m \u001b[38;5;28;01mif\u001b[39;00m \u001b[38;5;28mself\u001b[39m\u001b[38;5;241m.\u001b[39m_allow_multiple_connections:\n\u001b[1;32m    173\u001b[0m     old_ray_cxt \u001b[38;5;241m=\u001b[39m ray\u001b[38;5;241m.\u001b[39mutil\u001b[38;5;241m.\u001b[39mclient\u001b[38;5;241m.\u001b[39mray\u001b[38;5;241m.\u001b[39mset_context(\u001b[38;5;28;01mNone\u001b[39;00m)\n\u001b[0;32m--> 175\u001b[0m client_info_dict \u001b[38;5;241m=\u001b[39m \u001b[43mray\u001b[49m\u001b[38;5;241;43m.\u001b[39;49m\u001b[43mutil\u001b[49m\u001b[38;5;241;43m.\u001b[39;49m\u001b[43mclient_connect\u001b[49m\u001b[38;5;241;43m.\u001b[39;49m\u001b[43mconnect\u001b[49m\u001b[43m(\u001b[49m\n\u001b[1;32m    176\u001b[0m \u001b[43m    \u001b[49m\u001b[38;5;28;43mself\u001b[39;49m\u001b[38;5;241;43m.\u001b[39;49m\u001b[43maddress\u001b[49m\u001b[43m,\u001b[49m\n\u001b[1;32m    177\u001b[0m \u001b[43m    \u001b[49m\u001b[43mjob_config\u001b[49m\u001b[38;5;241;43m=\u001b[39;49m\u001b[38;5;28;43mself\u001b[39;49m\u001b[38;5;241;43m.\u001b[39;49m\u001b[43m_job_config\u001b[49m\u001b[43m,\u001b[49m\n\u001b[1;32m    178\u001b[0m \u001b[43m    \u001b[49m\u001b[43m_credentials\u001b[49m\u001b[38;5;241;43m=\u001b[39;49m\u001b[38;5;28;43mself\u001b[39;49m\u001b[38;5;241;43m.\u001b[39;49m\u001b[43m_credentials\u001b[49m\u001b[43m,\u001b[49m\n\u001b[1;32m    179\u001b[0m \u001b[43m    \u001b[49m\u001b[43mray_init_kwargs\u001b[49m\u001b[38;5;241;43m=\u001b[39;49m\u001b[38;5;28;43mself\u001b[39;49m\u001b[38;5;241;43m.\u001b[39;49m\u001b[43m_remote_init_kwargs\u001b[49m\u001b[43m,\u001b[49m\n\u001b[1;32m    180\u001b[0m \u001b[43m    \u001b[49m\u001b[43mmetadata\u001b[49m\u001b[38;5;241;43m=\u001b[39;49m\u001b[38;5;28;43mself\u001b[39;49m\u001b[38;5;241;43m.\u001b[39;49m\u001b[43m_metadata\u001b[49m\u001b[43m,\u001b[49m\n\u001b[1;32m    181\u001b[0m \u001b[43m\u001b[49m\u001b[43m)\u001b[49m\n\u001b[1;32m    183\u001b[0m dashboard_url \u001b[38;5;241m=\u001b[39m ray\u001b[38;5;241m.\u001b[39mutil\u001b[38;5;241m.\u001b[39mclient\u001b[38;5;241m.\u001b[39mray\u001b[38;5;241m.\u001b[39m_get_dashboard_url()\n\u001b[1;32m    185\u001b[0m cxt \u001b[38;5;241m=\u001b[39m ClientContext(\n\u001b[1;32m    186\u001b[0m     dashboard_url\u001b[38;5;241m=\u001b[39mdashboard_url,\n\u001b[1;32m    187\u001b[0m     python_version\u001b[38;5;241m=\u001b[39mclient_info_dict[\u001b[38;5;124m\"\u001b[39m\u001b[38;5;124mpython_version\u001b[39m\u001b[38;5;124m\"\u001b[39m],\n\u001b[0;32m   (...)\u001b[0m\n\u001b[1;32m    191\u001b[0m     _context_to_restore\u001b[38;5;241m=\u001b[39mray\u001b[38;5;241m.\u001b[39mutil\u001b[38;5;241m.\u001b[39mclient\u001b[38;5;241m.\u001b[39mray\u001b[38;5;241m.\u001b[39mget_context(),\n\u001b[1;32m    192\u001b[0m )\n",
      "File \u001b[0;32m~/miniforge3/envs/daft-ray/lib/python3.11/site-packages/ray/util/client_connect.py:55\u001b[0m, in \u001b[0;36mconnect\u001b[0;34m(conn_str, secure, metadata, connection_retries, job_config, namespace, ignore_version, _credentials, ray_init_kwargs)\u001b[0m\n\u001b[1;32m     50\u001b[0m _explicitly_enable_client_mode()\n\u001b[1;32m     52\u001b[0m \u001b[38;5;66;03m# TODO(barakmich): https://github.com/ray-project/ray/issues/13274\u001b[39;00m\n\u001b[1;32m     53\u001b[0m \u001b[38;5;66;03m# for supporting things like cert_path, ca_path, etc and creating\u001b[39;00m\n\u001b[1;32m     54\u001b[0m \u001b[38;5;66;03m# the correct metadata\u001b[39;00m\n\u001b[0;32m---> 55\u001b[0m conn \u001b[38;5;241m=\u001b[39m \u001b[43mray\u001b[49m\u001b[38;5;241;43m.\u001b[39;49m\u001b[43mconnect\u001b[49m\u001b[43m(\u001b[49m\n\u001b[1;32m     56\u001b[0m \u001b[43m    \u001b[49m\u001b[43mconn_str\u001b[49m\u001b[43m,\u001b[49m\n\u001b[1;32m     57\u001b[0m \u001b[43m    \u001b[49m\u001b[43mjob_config\u001b[49m\u001b[38;5;241;43m=\u001b[39;49m\u001b[43mjob_config\u001b[49m\u001b[43m,\u001b[49m\n\u001b[1;32m     58\u001b[0m \u001b[43m    \u001b[49m\u001b[43msecure\u001b[49m\u001b[38;5;241;43m=\u001b[39;49m\u001b[43msecure\u001b[49m\u001b[43m,\u001b[49m\n\u001b[1;32m     59\u001b[0m \u001b[43m    \u001b[49m\u001b[43mmetadata\u001b[49m\u001b[38;5;241;43m=\u001b[39;49m\u001b[43mmetadata\u001b[49m\u001b[43m,\u001b[49m\n\u001b[1;32m     60\u001b[0m \u001b[43m    \u001b[49m\u001b[43mconnection_retries\u001b[49m\u001b[38;5;241;43m=\u001b[39;49m\u001b[43mconnection_retries\u001b[49m\u001b[43m,\u001b[49m\n\u001b[1;32m     61\u001b[0m \u001b[43m    \u001b[49m\u001b[43mnamespace\u001b[49m\u001b[38;5;241;43m=\u001b[39;49m\u001b[43mnamespace\u001b[49m\u001b[43m,\u001b[49m\n\u001b[1;32m     62\u001b[0m \u001b[43m    \u001b[49m\u001b[43mignore_version\u001b[49m\u001b[38;5;241;43m=\u001b[39;49m\u001b[43mignore_version\u001b[49m\u001b[43m,\u001b[49m\n\u001b[1;32m     63\u001b[0m \u001b[43m    \u001b[49m\u001b[43m_credentials\u001b[49m\u001b[38;5;241;43m=\u001b[39;49m\u001b[43m_credentials\u001b[49m\u001b[43m,\u001b[49m\n\u001b[1;32m     64\u001b[0m \u001b[43m    \u001b[49m\u001b[43mray_init_kwargs\u001b[49m\u001b[38;5;241;43m=\u001b[39;49m\u001b[43mray_init_kwargs\u001b[49m\u001b[43m,\u001b[49m\n\u001b[1;32m     65\u001b[0m \u001b[43m\u001b[49m\u001b[43m)\u001b[49m\n\u001b[1;32m     66\u001b[0m \u001b[38;5;28;01mreturn\u001b[39;00m conn\n",
      "File \u001b[0;32m~/miniforge3/envs/daft-ray/lib/python3.11/site-packages/ray/util/client/__init__.py:233\u001b[0m, in \u001b[0;36mRayAPIStub.connect\u001b[0;34m(self, *args, **kw_args)\u001b[0m\n\u001b[1;32m    231\u001b[0m \u001b[38;5;28;01mdef\u001b[39;00m \u001b[38;5;21mconnect\u001b[39m(\u001b[38;5;28mself\u001b[39m, \u001b[38;5;241m*\u001b[39margs, \u001b[38;5;241m*\u001b[39m\u001b[38;5;241m*\u001b[39mkw_args):\n\u001b[1;32m    232\u001b[0m     \u001b[38;5;28mself\u001b[39m\u001b[38;5;241m.\u001b[39mget_context()\u001b[38;5;241m.\u001b[39m_inside_client_test \u001b[38;5;241m=\u001b[39m \u001b[38;5;28mself\u001b[39m\u001b[38;5;241m.\u001b[39m_inside_client_test\n\u001b[0;32m--> 233\u001b[0m     conn \u001b[38;5;241m=\u001b[39m \u001b[38;5;28;43mself\u001b[39;49m\u001b[38;5;241;43m.\u001b[39;49m\u001b[43mget_context\u001b[49m\u001b[43m(\u001b[49m\u001b[43m)\u001b[49m\u001b[38;5;241;43m.\u001b[39;49m\u001b[43mconnect\u001b[49m\u001b[43m(\u001b[49m\u001b[38;5;241;43m*\u001b[39;49m\u001b[43margs\u001b[49m\u001b[43m,\u001b[49m\u001b[43m \u001b[49m\u001b[38;5;241;43m*\u001b[39;49m\u001b[38;5;241;43m*\u001b[39;49m\u001b[43mkw_args\u001b[49m\u001b[43m)\u001b[49m\n\u001b[1;32m    234\u001b[0m     \u001b[38;5;28;01mglobal\u001b[39;00m _lock, _all_contexts\n\u001b[1;32m    235\u001b[0m     \u001b[38;5;28;01mwith\u001b[39;00m _lock:\n",
      "File \u001b[0;32m~/miniforge3/envs/daft-ray/lib/python3.11/site-packages/ray/util/client/__init__.py:89\u001b[0m, in \u001b[0;36m_ClientContext.connect\u001b[0;34m(self, conn_str, job_config, secure, metadata, connection_retries, namespace, ignore_version, _credentials, ray_init_kwargs)\u001b[0m\n\u001b[1;32m     86\u001b[0m setup_logger(logging_level, logging_format)\n\u001b[1;32m     88\u001b[0m \u001b[38;5;28;01mtry\u001b[39;00m:\n\u001b[0;32m---> 89\u001b[0m     \u001b[38;5;28mself\u001b[39m\u001b[38;5;241m.\u001b[39mclient_worker \u001b[38;5;241m=\u001b[39m \u001b[43mWorker\u001b[49m\u001b[43m(\u001b[49m\n\u001b[1;32m     90\u001b[0m \u001b[43m        \u001b[49m\u001b[43mconn_str\u001b[49m\u001b[43m,\u001b[49m\n\u001b[1;32m     91\u001b[0m \u001b[43m        \u001b[49m\u001b[43msecure\u001b[49m\u001b[38;5;241;43m=\u001b[39;49m\u001b[43msecure\u001b[49m\u001b[43m,\u001b[49m\n\u001b[1;32m     92\u001b[0m \u001b[43m        \u001b[49m\u001b[43m_credentials\u001b[49m\u001b[38;5;241;43m=\u001b[39;49m\u001b[43m_credentials\u001b[49m\u001b[43m,\u001b[49m\n\u001b[1;32m     93\u001b[0m \u001b[43m        \u001b[49m\u001b[43mmetadata\u001b[49m\u001b[38;5;241;43m=\u001b[39;49m\u001b[43mmetadata\u001b[49m\u001b[43m,\u001b[49m\n\u001b[1;32m     94\u001b[0m \u001b[43m        \u001b[49m\u001b[43mconnection_retries\u001b[49m\u001b[38;5;241;43m=\u001b[39;49m\u001b[43mconnection_retries\u001b[49m\u001b[43m,\u001b[49m\n\u001b[1;32m     95\u001b[0m \u001b[43m    \u001b[49m\u001b[43m)\u001b[49m\n\u001b[1;32m     96\u001b[0m     \u001b[38;5;28mself\u001b[39m\u001b[38;5;241m.\u001b[39mapi\u001b[38;5;241m.\u001b[39mworker \u001b[38;5;241m=\u001b[39m \u001b[38;5;28mself\u001b[39m\u001b[38;5;241m.\u001b[39mclient_worker\n\u001b[1;32m     97\u001b[0m     \u001b[38;5;28mself\u001b[39m\u001b[38;5;241m.\u001b[39mclient_worker\u001b[38;5;241m.\u001b[39m_server_init(job_config, ray_init_kwargs)\n",
      "File \u001b[0;32m~/miniforge3/envs/daft-ray/lib/python3.11/site-packages/ray/util/client/worker.py:139\u001b[0m, in \u001b[0;36mWorker.__init__\u001b[0;34m(self, conn_str, secure, metadata, connection_retries, _credentials)\u001b[0m\n\u001b[1;32m    136\u001b[0m \u001b[38;5;66;03m# Set to True after initial connection succeeds\u001b[39;00m\n\u001b[1;32m    137\u001b[0m \u001b[38;5;28mself\u001b[39m\u001b[38;5;241m.\u001b[39m_has_connected \u001b[38;5;241m=\u001b[39m \u001b[38;5;28;01mFalse\u001b[39;00m\n\u001b[0;32m--> 139\u001b[0m \u001b[38;5;28;43mself\u001b[39;49m\u001b[38;5;241;43m.\u001b[39;49m\u001b[43m_connect_channel\u001b[49m\u001b[43m(\u001b[49m\u001b[43m)\u001b[49m\n\u001b[1;32m    140\u001b[0m \u001b[38;5;28mself\u001b[39m\u001b[38;5;241m.\u001b[39m_has_connected \u001b[38;5;241m=\u001b[39m \u001b[38;5;28;01mTrue\u001b[39;00m\n\u001b[1;32m    142\u001b[0m \u001b[38;5;66;03m# Has Ray been initialized on the server?\u001b[39;00m\n",
      "File \u001b[0;32m~/miniforge3/envs/daft-ray/lib/python3.11/site-packages/ray/util/client/worker.py:260\u001b[0m, in \u001b[0;36mWorker._connect_channel\u001b[0;34m(self, reconnecting)\u001b[0m\n\u001b[1;32m    252\u001b[0m \u001b[38;5;28;01mif\u001b[39;00m log_once(\u001b[38;5;124m\"\u001b[39m\u001b[38;5;124mray_client_security_groups\u001b[39m\u001b[38;5;124m\"\u001b[39m):\n\u001b[1;32m    253\u001b[0m     warnings\u001b[38;5;241m.\u001b[39mwarn(\n\u001b[1;32m    254\u001b[0m         \u001b[38;5;124m\"\u001b[39m\u001b[38;5;124mRay Client connection timed out. Ensure that \u001b[39m\u001b[38;5;124m\"\u001b[39m\n\u001b[1;32m    255\u001b[0m         \u001b[38;5;124m\"\u001b[39m\u001b[38;5;124mthe Ray Client port on the head node is reachable \u001b[39m\u001b[38;5;124m\"\u001b[39m\n\u001b[0;32m   (...)\u001b[0m\n\u001b[1;32m    258\u001b[0m         \u001b[38;5;124m\"\u001b[39m\u001b[38;5;124mmore information.\u001b[39m\u001b[38;5;124m\"\u001b[39m\n\u001b[1;32m    259\u001b[0m     )\n\u001b[0;32m--> 260\u001b[0m \u001b[38;5;28;01mraise\u001b[39;00m \u001b[38;5;167;01mConnectionError\u001b[39;00m(\u001b[38;5;124m\"\u001b[39m\u001b[38;5;124mray client connection timeout\u001b[39m\u001b[38;5;124m\"\u001b[39m)\n",
      "\u001b[0;31mConnectionError\u001b[0m: ray client connection timeout"
     ]
    }
   ],
   "source": [
    "import ray\n",
    "ray.init(\"ray://localhost:10001\")"
   ]
  },
  {
   "cell_type": "code",
   "execution_count": null,
   "id": "d929091d-8ae2-4a9f-97b1-49a9fa923bdf",
   "metadata": {},
   "outputs": [],
   "source": []
  },
  {
   "cell_type": "code",
   "execution_count": null,
   "id": "6591179a-3eb6-4033-ad0b-eef962d65495",
   "metadata": {},
   "outputs": [],
   "source": []
  },
  {
   "cell_type": "code",
   "execution_count": null,
   "id": "eb3c577a-586d-4c11-b54d-9530743c9428",
   "metadata": {},
   "outputs": [],
   "source": []
  },
  {
   "cell_type": "code",
   "execution_count": null,
   "id": "f406c2d5-516a-4b2a-812b-4912570c223f",
   "metadata": {},
   "outputs": [],
   "source": []
  },
  {
   "cell_type": "code",
   "execution_count": 3,
   "id": "f078c332-733a-4099-95ab-e8142ebe5bb1",
   "metadata": {},
   "outputs": [
    {
     "data": {
      "text/plain": [
       "DaftContext(_daft_execution_config=<daft.daft.PyDaftExecutionConfig object at 0x1077c92f0>, _daft_planning_config=<daft.daft.PyDaftPlanningConfig object at 0x1077c9210>, _runner_config=_RayRunnerConfig(address='ray://18.171.243.103:8265', max_task_backlog=None), _disallow_set_runner=True, _runner=None)"
      ]
     },
     "execution_count": 3,
     "metadata": {},
     "output_type": "execute_result"
    }
   ],
   "source": [
    "#daft.context.set_runner_ray(address=f\"ray://{head_ip}:{port}\")\n",
    "daft.context.set_runner_ray(address='http://10.0.1.26:8265')"
   ]
  },
  {
   "cell_type": "code",
   "execution_count": 4,
   "id": "e226dbad-b870-441e-876c-7b2c7bf29841",
   "metadata": {},
   "outputs": [
    {
     "name": "stderr",
     "output_type": "stream",
     "text": [
      "/Users/rpelgrim/miniforge3/envs/daft-ray/lib/python3.11/site-packages/ray/util/client/worker.py:253: UserWarning: Ray Client connection timed out. Ensure that the Ray Client port on the head node is reachable from your local machine. See https://docs.ray.io/en/latest/cluster/ray-client.html#step-2-check-ports for more information.\n",
      "  warnings.warn(\n"
     ]
    },
    {
     "ename": "ConnectionError",
     "evalue": "ray client connection timeout",
     "output_type": "error",
     "traceback": [
      "\u001b[0;31m---------------------------------------------------------------------------\u001b[0m",
      "\u001b[0;31mConnectionError\u001b[0m                           Traceback (most recent call last)",
      "Cell \u001b[0;32mIn[4], line 2\u001b[0m\n\u001b[1;32m      1\u001b[0m df \u001b[38;5;241m=\u001b[39m daft\u001b[38;5;241m.\u001b[39mread_parquet(\u001b[38;5;124m\"\u001b[39m\u001b[38;5;124mdata/yellow_tripdata_2023-12.parquet\u001b[39m\u001b[38;5;124m\"\u001b[39m)\n\u001b[0;32m----> 2\u001b[0m \u001b[43mdf\u001b[49m\u001b[38;5;241;43m.\u001b[39;49m\u001b[43mshow\u001b[49m\u001b[43m(\u001b[49m\u001b[43m)\u001b[49m\n",
      "File \u001b[0;32m~/miniforge3/envs/daft-ray/lib/python3.11/site-packages/daft/api_annotations.py:26\u001b[0m, in \u001b[0;36mDataframePublicAPI.<locals>._wrap\u001b[0;34m(*args, **kwargs)\u001b[0m\n\u001b[1;32m     24\u001b[0m type_check_function(func, \u001b[38;5;241m*\u001b[39margs, \u001b[38;5;241m*\u001b[39m\u001b[38;5;241m*\u001b[39mkwargs)\n\u001b[1;32m     25\u001b[0m timed_method \u001b[38;5;241m=\u001b[39m time_df_method(func)\n\u001b[0;32m---> 26\u001b[0m \u001b[38;5;28;01mreturn\u001b[39;00m \u001b[43mtimed_method\u001b[49m\u001b[43m(\u001b[49m\u001b[38;5;241;43m*\u001b[39;49m\u001b[43margs\u001b[49m\u001b[43m,\u001b[49m\u001b[43m \u001b[49m\u001b[38;5;241;43m*\u001b[39;49m\u001b[38;5;241;43m*\u001b[39;49m\u001b[43mkwargs\u001b[49m\u001b[43m)\u001b[49m\n",
      "File \u001b[0;32m~/miniforge3/envs/daft-ray/lib/python3.11/site-packages/daft/analytics.py:202\u001b[0m, in \u001b[0;36mtime_df_method.<locals>.tracked_method\u001b[0;34m(*args, **kwargs)\u001b[0m\n\u001b[1;32m    200\u001b[0m start \u001b[38;5;241m=\u001b[39m time\u001b[38;5;241m.\u001b[39mtime()\n\u001b[1;32m    201\u001b[0m \u001b[38;5;28;01mtry\u001b[39;00m:\n\u001b[0;32m--> 202\u001b[0m     result \u001b[38;5;241m=\u001b[39m \u001b[43mmethod\u001b[49m\u001b[43m(\u001b[49m\u001b[38;5;241;43m*\u001b[39;49m\u001b[43margs\u001b[49m\u001b[43m,\u001b[49m\u001b[43m \u001b[49m\u001b[38;5;241;43m*\u001b[39;49m\u001b[38;5;241;43m*\u001b[39;49m\u001b[43mkwargs\u001b[49m\u001b[43m)\u001b[49m\n\u001b[1;32m    203\u001b[0m \u001b[38;5;28;01mexcept\u001b[39;00m \u001b[38;5;167;01mException\u001b[39;00m \u001b[38;5;28;01mas\u001b[39;00m e:\n\u001b[1;32m    204\u001b[0m     _ANALYTICS_CLIENT\u001b[38;5;241m.\u001b[39mtrack_df_method_call(\n\u001b[1;32m    205\u001b[0m         method_name\u001b[38;5;241m=\u001b[39mmethod\u001b[38;5;241m.\u001b[39m\u001b[38;5;18m__name__\u001b[39m, duration_seconds\u001b[38;5;241m=\u001b[39mtime\u001b[38;5;241m.\u001b[39mtime() \u001b[38;5;241m-\u001b[39m start, error\u001b[38;5;241m=\u001b[39m\u001b[38;5;28mstr\u001b[39m(\u001b[38;5;28mtype\u001b[39m(e)\u001b[38;5;241m.\u001b[39m\u001b[38;5;18m__name__\u001b[39m)\n\u001b[1;32m    206\u001b[0m     )\n",
      "File \u001b[0;32m~/miniforge3/envs/daft-ray/lib/python3.11/site-packages/daft/dataframe/dataframe.py:2403\u001b[0m, in \u001b[0;36mDataFrame.show\u001b[0;34m(self, n)\u001b[0m\n\u001b[1;32m   2390\u001b[0m \u001b[38;5;129m@DataframePublicAPI\u001b[39m\n\u001b[1;32m   2391\u001b[0m \u001b[38;5;28;01mdef\u001b[39;00m \u001b[38;5;21mshow\u001b[39m(\u001b[38;5;28mself\u001b[39m, n: \u001b[38;5;28mint\u001b[39m \u001b[38;5;241m=\u001b[39m \u001b[38;5;241m8\u001b[39m) \u001b[38;5;241m-\u001b[39m\u001b[38;5;241m>\u001b[39m \u001b[38;5;28;01mNone\u001b[39;00m:\n\u001b[1;32m   2392\u001b[0m \u001b[38;5;250m    \u001b[39m\u001b[38;5;124;03m\"\"\"Executes enough of the DataFrame in order to display the first ``n`` rows\u001b[39;00m\n\u001b[1;32m   2393\u001b[0m \n\u001b[1;32m   2394\u001b[0m \u001b[38;5;124;03m    If IPython is installed, this will use IPython's `display` utility to pretty-print in a\u001b[39;00m\n\u001b[0;32m   (...)\u001b[0m\n\u001b[1;32m   2401\u001b[0m \u001b[38;5;124;03m        n: number of rows to show. Defaults to 8.\u001b[39;00m\n\u001b[1;32m   2402\u001b[0m \u001b[38;5;124;03m    \"\"\"\u001b[39;00m\n\u001b[0;32m-> 2403\u001b[0m     dataframe_display \u001b[38;5;241m=\u001b[39m \u001b[38;5;28;43mself\u001b[39;49m\u001b[38;5;241;43m.\u001b[39;49m\u001b[43m_construct_show_display\u001b[49m\u001b[43m(\u001b[49m\u001b[43mn\u001b[49m\u001b[43m)\u001b[49m\n\u001b[1;32m   2404\u001b[0m     \u001b[38;5;28;01mtry\u001b[39;00m:\n\u001b[1;32m   2405\u001b[0m         \u001b[38;5;28;01mfrom\u001b[39;00m \u001b[38;5;21;01mIPython\u001b[39;00m\u001b[38;5;21;01m.\u001b[39;00m\u001b[38;5;21;01mdisplay\u001b[39;00m \u001b[38;5;28;01mimport\u001b[39;00m display\n",
      "File \u001b[0;32m~/miniforge3/envs/daft-ray/lib/python3.11/site-packages/daft/dataframe/dataframe.py:2360\u001b[0m, in \u001b[0;36mDataFrame._construct_show_display\u001b[0;34m(self, n)\u001b[0m\n\u001b[1;32m   2358\u001b[0m tables \u001b[38;5;241m=\u001b[39m []\n\u001b[1;32m   2359\u001b[0m seen \u001b[38;5;241m=\u001b[39m \u001b[38;5;241m0\u001b[39m\n\u001b[0;32m-> 2360\u001b[0m \u001b[38;5;28;01mfor\u001b[39;00m table \u001b[38;5;129;01min\u001b[39;00m \u001b[43mget_context\u001b[49m\u001b[43m(\u001b[49m\u001b[43m)\u001b[49m\u001b[38;5;241;43m.\u001b[39;49m\u001b[43mrunner\u001b[49m\u001b[43m(\u001b[49m\u001b[43m)\u001b[49m\u001b[38;5;241m.\u001b[39mrun_iter_tables(builder, results_buffer_size\u001b[38;5;241m=\u001b[39m\u001b[38;5;241m1\u001b[39m):\n\u001b[1;32m   2361\u001b[0m     tables\u001b[38;5;241m.\u001b[39mappend(table)\n\u001b[1;32m   2362\u001b[0m     seen \u001b[38;5;241m+\u001b[39m\u001b[38;5;241m=\u001b[39m \u001b[38;5;28mlen\u001b[39m(table)\n",
      "File \u001b[0;32m~/miniforge3/envs/daft-ray/lib/python3.11/site-packages/daft/context.py:123\u001b[0m, in \u001b[0;36mDaftContext.runner\u001b[0;34m(self)\u001b[0m\n\u001b[1;32m    121\u001b[0m \u001b[38;5;28;01mdef\u001b[39;00m \u001b[38;5;21mrunner\u001b[39m(\u001b[38;5;28mself\u001b[39m) \u001b[38;5;241m-\u001b[39m\u001b[38;5;241m>\u001b[39m Runner:\n\u001b[1;32m    122\u001b[0m     \u001b[38;5;28;01mwith\u001b[39;00m \u001b[38;5;28mself\u001b[39m\u001b[38;5;241m.\u001b[39m_lock:\n\u001b[0;32m--> 123\u001b[0m         \u001b[38;5;28;01mreturn\u001b[39;00m \u001b[38;5;28;43mself\u001b[39;49m\u001b[38;5;241;43m.\u001b[39;49m\u001b[43m_get_runner\u001b[49m\u001b[43m(\u001b[49m\u001b[43m)\u001b[49m\n",
      "File \u001b[0;32m~/miniforge3/envs/daft-ray/lib/python3.11/site-packages/daft/context.py:155\u001b[0m, in \u001b[0;36mDaftContext._get_runner\u001b[0;34m(self)\u001b[0m\n\u001b[1;32m    152\u001b[0m     \u001b[38;5;28;01mfrom\u001b[39;00m \u001b[38;5;21;01mdaft\u001b[39;00m\u001b[38;5;21;01m.\u001b[39;00m\u001b[38;5;21;01mrunners\u001b[39;00m\u001b[38;5;21;01m.\u001b[39;00m\u001b[38;5;21;01mray_runner\u001b[39;00m \u001b[38;5;28;01mimport\u001b[39;00m RayRunner\n\u001b[1;32m    154\u001b[0m     \u001b[38;5;28;01massert\u001b[39;00m \u001b[38;5;28misinstance\u001b[39m(runner_config, _RayRunnerConfig)\n\u001b[0;32m--> 155\u001b[0m     \u001b[38;5;28mself\u001b[39m\u001b[38;5;241m.\u001b[39m_runner \u001b[38;5;241m=\u001b[39m \u001b[43mRayRunner\u001b[49m\u001b[43m(\u001b[49m\n\u001b[1;32m    156\u001b[0m \u001b[43m        \u001b[49m\u001b[43maddress\u001b[49m\u001b[38;5;241;43m=\u001b[39;49m\u001b[43mrunner_config\u001b[49m\u001b[38;5;241;43m.\u001b[39;49m\u001b[43maddress\u001b[49m\u001b[43m,\u001b[49m\n\u001b[1;32m    157\u001b[0m \u001b[43m        \u001b[49m\u001b[43mmax_task_backlog\u001b[49m\u001b[38;5;241;43m=\u001b[39;49m\u001b[43mrunner_config\u001b[49m\u001b[38;5;241;43m.\u001b[39;49m\u001b[43mmax_task_backlog\u001b[49m\u001b[43m,\u001b[49m\n\u001b[1;32m    158\u001b[0m \u001b[43m    \u001b[49m\u001b[43m)\u001b[49m\n\u001b[1;32m    159\u001b[0m \u001b[38;5;28;01melif\u001b[39;00m runner_config\u001b[38;5;241m.\u001b[39mname \u001b[38;5;241m==\u001b[39m \u001b[38;5;124m\"\u001b[39m\u001b[38;5;124mpy\u001b[39m\u001b[38;5;124m\"\u001b[39m:\n\u001b[1;32m    160\u001b[0m     \u001b[38;5;28;01mfrom\u001b[39;00m \u001b[38;5;21;01mdaft\u001b[39;00m\u001b[38;5;21;01m.\u001b[39;00m\u001b[38;5;21;01mrunners\u001b[39;00m\u001b[38;5;21;01m.\u001b[39;00m\u001b[38;5;21;01mpyrunner\u001b[39;00m \u001b[38;5;28;01mimport\u001b[39;00m PyRunner\n",
      "File \u001b[0;32m~/miniforge3/envs/daft-ray/lib/python3.11/site-packages/daft/runners/ray_runner.py:761\u001b[0m, in \u001b[0;36mRayRunner.__init__\u001b[0;34m(self, address, max_task_backlog)\u001b[0m\n\u001b[1;32m    755\u001b[0m         logger\u001b[38;5;241m.\u001b[39mwarning(\n\u001b[1;32m    756\u001b[0m             \u001b[38;5;124m\"\u001b[39m\u001b[38;5;124mRay has already been initialized, Daft will reuse the existing Ray context and ignore the \u001b[39m\u001b[38;5;124m\"\u001b[39m\n\u001b[1;32m    757\u001b[0m             \u001b[38;5;124m\"\u001b[39m\u001b[38;5;124msupplied address: \u001b[39m\u001b[38;5;132;01m%s\u001b[39;00m\u001b[38;5;124m\"\u001b[39m,\n\u001b[1;32m    758\u001b[0m             address,\n\u001b[1;32m    759\u001b[0m         )\n\u001b[1;32m    760\u001b[0m \u001b[38;5;28;01melse\u001b[39;00m:\n\u001b[0;32m--> 761\u001b[0m     \u001b[43mray\u001b[49m\u001b[38;5;241;43m.\u001b[39;49m\u001b[43minit\u001b[49m\u001b[43m(\u001b[49m\u001b[43maddress\u001b[49m\u001b[38;5;241;43m=\u001b[39;49m\u001b[43maddress\u001b[49m\u001b[43m)\u001b[49m\n\u001b[1;32m    763\u001b[0m \u001b[38;5;66;03m# Check if Ray is running in \"client mode\" (connected to a Ray cluster via a Ray client)\u001b[39;00m\n\u001b[1;32m    764\u001b[0m \u001b[38;5;28mself\u001b[39m\u001b[38;5;241m.\u001b[39mray_client_mode \u001b[38;5;241m=\u001b[39m ray\u001b[38;5;241m.\u001b[39mutil\u001b[38;5;241m.\u001b[39mclient\u001b[38;5;241m.\u001b[39mray\u001b[38;5;241m.\u001b[39mget_context()\u001b[38;5;241m.\u001b[39mis_connected()\n",
      "File \u001b[0;32m~/miniforge3/envs/daft-ray/lib/python3.11/site-packages/ray/_private/client_mode_hook.py:103\u001b[0m, in \u001b[0;36mclient_mode_hook.<locals>.wrapper\u001b[0;34m(*args, **kwargs)\u001b[0m\n\u001b[1;32m    101\u001b[0m     \u001b[38;5;28;01mif\u001b[39;00m func\u001b[38;5;241m.\u001b[39m\u001b[38;5;18m__name__\u001b[39m \u001b[38;5;241m!=\u001b[39m \u001b[38;5;124m\"\u001b[39m\u001b[38;5;124minit\u001b[39m\u001b[38;5;124m\"\u001b[39m \u001b[38;5;129;01mor\u001b[39;00m is_client_mode_enabled_by_default:\n\u001b[1;32m    102\u001b[0m         \u001b[38;5;28;01mreturn\u001b[39;00m \u001b[38;5;28mgetattr\u001b[39m(ray, func\u001b[38;5;241m.\u001b[39m\u001b[38;5;18m__name__\u001b[39m)(\u001b[38;5;241m*\u001b[39margs, \u001b[38;5;241m*\u001b[39m\u001b[38;5;241m*\u001b[39mkwargs)\n\u001b[0;32m--> 103\u001b[0m \u001b[38;5;28;01mreturn\u001b[39;00m \u001b[43mfunc\u001b[49m\u001b[43m(\u001b[49m\u001b[38;5;241;43m*\u001b[39;49m\u001b[43margs\u001b[49m\u001b[43m,\u001b[49m\u001b[43m \u001b[49m\u001b[38;5;241;43m*\u001b[39;49m\u001b[38;5;241;43m*\u001b[39;49m\u001b[43mkwargs\u001b[49m\u001b[43m)\u001b[49m\n",
      "File \u001b[0;32m~/miniforge3/envs/daft-ray/lib/python3.11/site-packages/ray/_private/worker.py:1483\u001b[0m, in \u001b[0;36minit\u001b[0;34m(address, num_cpus, num_gpus, resources, labels, object_store_memory, local_mode, ignore_reinit_error, include_dashboard, dashboard_host, dashboard_port, job_config, configure_logging, logging_level, logging_format, logging_config, log_to_driver, namespace, runtime_env, storage, **kwargs)\u001b[0m\n\u001b[1;32m   1481\u001b[0m passed_kwargs\u001b[38;5;241m.\u001b[39mupdate(kwargs)\n\u001b[1;32m   1482\u001b[0m builder\u001b[38;5;241m.\u001b[39m_init_args(\u001b[38;5;241m*\u001b[39m\u001b[38;5;241m*\u001b[39mpassed_kwargs)\n\u001b[0;32m-> 1483\u001b[0m ctx \u001b[38;5;241m=\u001b[39m \u001b[43mbuilder\u001b[49m\u001b[38;5;241;43m.\u001b[39;49m\u001b[43mconnect\u001b[49m\u001b[43m(\u001b[49m\u001b[43m)\u001b[49m\n\u001b[1;32m   1484\u001b[0m \u001b[38;5;28;01mfrom\u001b[39;00m \u001b[38;5;21;01mray\u001b[39;00m\u001b[38;5;21;01m.\u001b[39;00m\u001b[38;5;21;01m_private\u001b[39;00m\u001b[38;5;21;01m.\u001b[39;00m\u001b[38;5;21;01musage\u001b[39;00m \u001b[38;5;28;01mimport\u001b[39;00m usage_lib\n\u001b[1;32m   1486\u001b[0m \u001b[38;5;28;01mif\u001b[39;00m passed_kwargs\u001b[38;5;241m.\u001b[39mget(\u001b[38;5;124m\"\u001b[39m\u001b[38;5;124mallow_multiple\u001b[39m\u001b[38;5;124m\"\u001b[39m) \u001b[38;5;129;01mis\u001b[39;00m \u001b[38;5;28;01mTrue\u001b[39;00m:\n",
      "File \u001b[0;32m~/miniforge3/envs/daft-ray/lib/python3.11/site-packages/ray/client_builder.py:175\u001b[0m, in \u001b[0;36mClientBuilder.connect\u001b[0;34m(self)\u001b[0m\n\u001b[1;32m    172\u001b[0m \u001b[38;5;28;01mif\u001b[39;00m \u001b[38;5;28mself\u001b[39m\u001b[38;5;241m.\u001b[39m_allow_multiple_connections:\n\u001b[1;32m    173\u001b[0m     old_ray_cxt \u001b[38;5;241m=\u001b[39m ray\u001b[38;5;241m.\u001b[39mutil\u001b[38;5;241m.\u001b[39mclient\u001b[38;5;241m.\u001b[39mray\u001b[38;5;241m.\u001b[39mset_context(\u001b[38;5;28;01mNone\u001b[39;00m)\n\u001b[0;32m--> 175\u001b[0m client_info_dict \u001b[38;5;241m=\u001b[39m \u001b[43mray\u001b[49m\u001b[38;5;241;43m.\u001b[39;49m\u001b[43mutil\u001b[49m\u001b[38;5;241;43m.\u001b[39;49m\u001b[43mclient_connect\u001b[49m\u001b[38;5;241;43m.\u001b[39;49m\u001b[43mconnect\u001b[49m\u001b[43m(\u001b[49m\n\u001b[1;32m    176\u001b[0m \u001b[43m    \u001b[49m\u001b[38;5;28;43mself\u001b[39;49m\u001b[38;5;241;43m.\u001b[39;49m\u001b[43maddress\u001b[49m\u001b[43m,\u001b[49m\n\u001b[1;32m    177\u001b[0m \u001b[43m    \u001b[49m\u001b[43mjob_config\u001b[49m\u001b[38;5;241;43m=\u001b[39;49m\u001b[38;5;28;43mself\u001b[39;49m\u001b[38;5;241;43m.\u001b[39;49m\u001b[43m_job_config\u001b[49m\u001b[43m,\u001b[49m\n\u001b[1;32m    178\u001b[0m \u001b[43m    \u001b[49m\u001b[43m_credentials\u001b[49m\u001b[38;5;241;43m=\u001b[39;49m\u001b[38;5;28;43mself\u001b[39;49m\u001b[38;5;241;43m.\u001b[39;49m\u001b[43m_credentials\u001b[49m\u001b[43m,\u001b[49m\n\u001b[1;32m    179\u001b[0m \u001b[43m    \u001b[49m\u001b[43mray_init_kwargs\u001b[49m\u001b[38;5;241;43m=\u001b[39;49m\u001b[38;5;28;43mself\u001b[39;49m\u001b[38;5;241;43m.\u001b[39;49m\u001b[43m_remote_init_kwargs\u001b[49m\u001b[43m,\u001b[49m\n\u001b[1;32m    180\u001b[0m \u001b[43m    \u001b[49m\u001b[43mmetadata\u001b[49m\u001b[38;5;241;43m=\u001b[39;49m\u001b[38;5;28;43mself\u001b[39;49m\u001b[38;5;241;43m.\u001b[39;49m\u001b[43m_metadata\u001b[49m\u001b[43m,\u001b[49m\n\u001b[1;32m    181\u001b[0m \u001b[43m\u001b[49m\u001b[43m)\u001b[49m\n\u001b[1;32m    183\u001b[0m dashboard_url \u001b[38;5;241m=\u001b[39m ray\u001b[38;5;241m.\u001b[39mutil\u001b[38;5;241m.\u001b[39mclient\u001b[38;5;241m.\u001b[39mray\u001b[38;5;241m.\u001b[39m_get_dashboard_url()\n\u001b[1;32m    185\u001b[0m cxt \u001b[38;5;241m=\u001b[39m ClientContext(\n\u001b[1;32m    186\u001b[0m     dashboard_url\u001b[38;5;241m=\u001b[39mdashboard_url,\n\u001b[1;32m    187\u001b[0m     python_version\u001b[38;5;241m=\u001b[39mclient_info_dict[\u001b[38;5;124m\"\u001b[39m\u001b[38;5;124mpython_version\u001b[39m\u001b[38;5;124m\"\u001b[39m],\n\u001b[0;32m   (...)\u001b[0m\n\u001b[1;32m    191\u001b[0m     _context_to_restore\u001b[38;5;241m=\u001b[39mray\u001b[38;5;241m.\u001b[39mutil\u001b[38;5;241m.\u001b[39mclient\u001b[38;5;241m.\u001b[39mray\u001b[38;5;241m.\u001b[39mget_context(),\n\u001b[1;32m    192\u001b[0m )\n",
      "File \u001b[0;32m~/miniforge3/envs/daft-ray/lib/python3.11/site-packages/ray/util/client_connect.py:55\u001b[0m, in \u001b[0;36mconnect\u001b[0;34m(conn_str, secure, metadata, connection_retries, job_config, namespace, ignore_version, _credentials, ray_init_kwargs)\u001b[0m\n\u001b[1;32m     50\u001b[0m _explicitly_enable_client_mode()\n\u001b[1;32m     52\u001b[0m \u001b[38;5;66;03m# TODO(barakmich): https://github.com/ray-project/ray/issues/13274\u001b[39;00m\n\u001b[1;32m     53\u001b[0m \u001b[38;5;66;03m# for supporting things like cert_path, ca_path, etc and creating\u001b[39;00m\n\u001b[1;32m     54\u001b[0m \u001b[38;5;66;03m# the correct metadata\u001b[39;00m\n\u001b[0;32m---> 55\u001b[0m conn \u001b[38;5;241m=\u001b[39m \u001b[43mray\u001b[49m\u001b[38;5;241;43m.\u001b[39;49m\u001b[43mconnect\u001b[49m\u001b[43m(\u001b[49m\n\u001b[1;32m     56\u001b[0m \u001b[43m    \u001b[49m\u001b[43mconn_str\u001b[49m\u001b[43m,\u001b[49m\n\u001b[1;32m     57\u001b[0m \u001b[43m    \u001b[49m\u001b[43mjob_config\u001b[49m\u001b[38;5;241;43m=\u001b[39;49m\u001b[43mjob_config\u001b[49m\u001b[43m,\u001b[49m\n\u001b[1;32m     58\u001b[0m \u001b[43m    \u001b[49m\u001b[43msecure\u001b[49m\u001b[38;5;241;43m=\u001b[39;49m\u001b[43msecure\u001b[49m\u001b[43m,\u001b[49m\n\u001b[1;32m     59\u001b[0m \u001b[43m    \u001b[49m\u001b[43mmetadata\u001b[49m\u001b[38;5;241;43m=\u001b[39;49m\u001b[43mmetadata\u001b[49m\u001b[43m,\u001b[49m\n\u001b[1;32m     60\u001b[0m \u001b[43m    \u001b[49m\u001b[43mconnection_retries\u001b[49m\u001b[38;5;241;43m=\u001b[39;49m\u001b[43mconnection_retries\u001b[49m\u001b[43m,\u001b[49m\n\u001b[1;32m     61\u001b[0m \u001b[43m    \u001b[49m\u001b[43mnamespace\u001b[49m\u001b[38;5;241;43m=\u001b[39;49m\u001b[43mnamespace\u001b[49m\u001b[43m,\u001b[49m\n\u001b[1;32m     62\u001b[0m \u001b[43m    \u001b[49m\u001b[43mignore_version\u001b[49m\u001b[38;5;241;43m=\u001b[39;49m\u001b[43mignore_version\u001b[49m\u001b[43m,\u001b[49m\n\u001b[1;32m     63\u001b[0m \u001b[43m    \u001b[49m\u001b[43m_credentials\u001b[49m\u001b[38;5;241;43m=\u001b[39;49m\u001b[43m_credentials\u001b[49m\u001b[43m,\u001b[49m\n\u001b[1;32m     64\u001b[0m \u001b[43m    \u001b[49m\u001b[43mray_init_kwargs\u001b[49m\u001b[38;5;241;43m=\u001b[39;49m\u001b[43mray_init_kwargs\u001b[49m\u001b[43m,\u001b[49m\n\u001b[1;32m     65\u001b[0m \u001b[43m\u001b[49m\u001b[43m)\u001b[49m\n\u001b[1;32m     66\u001b[0m \u001b[38;5;28;01mreturn\u001b[39;00m conn\n",
      "File \u001b[0;32m~/miniforge3/envs/daft-ray/lib/python3.11/site-packages/ray/util/client/__init__.py:233\u001b[0m, in \u001b[0;36mRayAPIStub.connect\u001b[0;34m(self, *args, **kw_args)\u001b[0m\n\u001b[1;32m    231\u001b[0m \u001b[38;5;28;01mdef\u001b[39;00m \u001b[38;5;21mconnect\u001b[39m(\u001b[38;5;28mself\u001b[39m, \u001b[38;5;241m*\u001b[39margs, \u001b[38;5;241m*\u001b[39m\u001b[38;5;241m*\u001b[39mkw_args):\n\u001b[1;32m    232\u001b[0m     \u001b[38;5;28mself\u001b[39m\u001b[38;5;241m.\u001b[39mget_context()\u001b[38;5;241m.\u001b[39m_inside_client_test \u001b[38;5;241m=\u001b[39m \u001b[38;5;28mself\u001b[39m\u001b[38;5;241m.\u001b[39m_inside_client_test\n\u001b[0;32m--> 233\u001b[0m     conn \u001b[38;5;241m=\u001b[39m \u001b[38;5;28;43mself\u001b[39;49m\u001b[38;5;241;43m.\u001b[39;49m\u001b[43mget_context\u001b[49m\u001b[43m(\u001b[49m\u001b[43m)\u001b[49m\u001b[38;5;241;43m.\u001b[39;49m\u001b[43mconnect\u001b[49m\u001b[43m(\u001b[49m\u001b[38;5;241;43m*\u001b[39;49m\u001b[43margs\u001b[49m\u001b[43m,\u001b[49m\u001b[43m \u001b[49m\u001b[38;5;241;43m*\u001b[39;49m\u001b[38;5;241;43m*\u001b[39;49m\u001b[43mkw_args\u001b[49m\u001b[43m)\u001b[49m\n\u001b[1;32m    234\u001b[0m     \u001b[38;5;28;01mglobal\u001b[39;00m _lock, _all_contexts\n\u001b[1;32m    235\u001b[0m     \u001b[38;5;28;01mwith\u001b[39;00m _lock:\n",
      "File \u001b[0;32m~/miniforge3/envs/daft-ray/lib/python3.11/site-packages/ray/util/client/__init__.py:89\u001b[0m, in \u001b[0;36m_ClientContext.connect\u001b[0;34m(self, conn_str, job_config, secure, metadata, connection_retries, namespace, ignore_version, _credentials, ray_init_kwargs)\u001b[0m\n\u001b[1;32m     86\u001b[0m setup_logger(logging_level, logging_format)\n\u001b[1;32m     88\u001b[0m \u001b[38;5;28;01mtry\u001b[39;00m:\n\u001b[0;32m---> 89\u001b[0m     \u001b[38;5;28mself\u001b[39m\u001b[38;5;241m.\u001b[39mclient_worker \u001b[38;5;241m=\u001b[39m \u001b[43mWorker\u001b[49m\u001b[43m(\u001b[49m\n\u001b[1;32m     90\u001b[0m \u001b[43m        \u001b[49m\u001b[43mconn_str\u001b[49m\u001b[43m,\u001b[49m\n\u001b[1;32m     91\u001b[0m \u001b[43m        \u001b[49m\u001b[43msecure\u001b[49m\u001b[38;5;241;43m=\u001b[39;49m\u001b[43msecure\u001b[49m\u001b[43m,\u001b[49m\n\u001b[1;32m     92\u001b[0m \u001b[43m        \u001b[49m\u001b[43m_credentials\u001b[49m\u001b[38;5;241;43m=\u001b[39;49m\u001b[43m_credentials\u001b[49m\u001b[43m,\u001b[49m\n\u001b[1;32m     93\u001b[0m \u001b[43m        \u001b[49m\u001b[43mmetadata\u001b[49m\u001b[38;5;241;43m=\u001b[39;49m\u001b[43mmetadata\u001b[49m\u001b[43m,\u001b[49m\n\u001b[1;32m     94\u001b[0m \u001b[43m        \u001b[49m\u001b[43mconnection_retries\u001b[49m\u001b[38;5;241;43m=\u001b[39;49m\u001b[43mconnection_retries\u001b[49m\u001b[43m,\u001b[49m\n\u001b[1;32m     95\u001b[0m \u001b[43m    \u001b[49m\u001b[43m)\u001b[49m\n\u001b[1;32m     96\u001b[0m     \u001b[38;5;28mself\u001b[39m\u001b[38;5;241m.\u001b[39mapi\u001b[38;5;241m.\u001b[39mworker \u001b[38;5;241m=\u001b[39m \u001b[38;5;28mself\u001b[39m\u001b[38;5;241m.\u001b[39mclient_worker\n\u001b[1;32m     97\u001b[0m     \u001b[38;5;28mself\u001b[39m\u001b[38;5;241m.\u001b[39mclient_worker\u001b[38;5;241m.\u001b[39m_server_init(job_config, ray_init_kwargs)\n",
      "File \u001b[0;32m~/miniforge3/envs/daft-ray/lib/python3.11/site-packages/ray/util/client/worker.py:139\u001b[0m, in \u001b[0;36mWorker.__init__\u001b[0;34m(self, conn_str, secure, metadata, connection_retries, _credentials)\u001b[0m\n\u001b[1;32m    136\u001b[0m \u001b[38;5;66;03m# Set to True after initial connection succeeds\u001b[39;00m\n\u001b[1;32m    137\u001b[0m \u001b[38;5;28mself\u001b[39m\u001b[38;5;241m.\u001b[39m_has_connected \u001b[38;5;241m=\u001b[39m \u001b[38;5;28;01mFalse\u001b[39;00m\n\u001b[0;32m--> 139\u001b[0m \u001b[38;5;28;43mself\u001b[39;49m\u001b[38;5;241;43m.\u001b[39;49m\u001b[43m_connect_channel\u001b[49m\u001b[43m(\u001b[49m\u001b[43m)\u001b[49m\n\u001b[1;32m    140\u001b[0m \u001b[38;5;28mself\u001b[39m\u001b[38;5;241m.\u001b[39m_has_connected \u001b[38;5;241m=\u001b[39m \u001b[38;5;28;01mTrue\u001b[39;00m\n\u001b[1;32m    142\u001b[0m \u001b[38;5;66;03m# Has Ray been initialized on the server?\u001b[39;00m\n",
      "File \u001b[0;32m~/miniforge3/envs/daft-ray/lib/python3.11/site-packages/ray/util/client/worker.py:260\u001b[0m, in \u001b[0;36mWorker._connect_channel\u001b[0;34m(self, reconnecting)\u001b[0m\n\u001b[1;32m    252\u001b[0m \u001b[38;5;28;01mif\u001b[39;00m log_once(\u001b[38;5;124m\"\u001b[39m\u001b[38;5;124mray_client_security_groups\u001b[39m\u001b[38;5;124m\"\u001b[39m):\n\u001b[1;32m    253\u001b[0m     warnings\u001b[38;5;241m.\u001b[39mwarn(\n\u001b[1;32m    254\u001b[0m         \u001b[38;5;124m\"\u001b[39m\u001b[38;5;124mRay Client connection timed out. Ensure that \u001b[39m\u001b[38;5;124m\"\u001b[39m\n\u001b[1;32m    255\u001b[0m         \u001b[38;5;124m\"\u001b[39m\u001b[38;5;124mthe Ray Client port on the head node is reachable \u001b[39m\u001b[38;5;124m\"\u001b[39m\n\u001b[0;32m   (...)\u001b[0m\n\u001b[1;32m    258\u001b[0m         \u001b[38;5;124m\"\u001b[39m\u001b[38;5;124mmore information.\u001b[39m\u001b[38;5;124m\"\u001b[39m\n\u001b[1;32m    259\u001b[0m     )\n\u001b[0;32m--> 260\u001b[0m \u001b[38;5;28;01mraise\u001b[39;00m \u001b[38;5;167;01mConnectionError\u001b[39;00m(\u001b[38;5;124m\"\u001b[39m\u001b[38;5;124mray client connection timeout\u001b[39m\u001b[38;5;124m\"\u001b[39m)\n",
      "\u001b[0;31mConnectionError\u001b[0m: ray client connection timeout"
     ]
    }
   ],
   "source": [
    "df = daft.read_parquet(\"data/yellow_tripdata_2023-12.parquet\")\n",
    "df.show()"
   ]
  },
  {
   "cell_type": "code",
   "execution_count": null,
   "id": "5a82b77a-ff74-408d-8ad9-f807688e9c6f",
   "metadata": {},
   "outputs": [],
   "source": []
  },
  {
   "cell_type": "markdown",
   "id": "0a1a0b8e-2eab-480c-b41b-ba7d0d9edab1",
   "metadata": {},
   "source": [
    "### confusing\n",
    "1. head-ip is different from local IP - which one should I use?\n",
    "2. ray cluster is up but i can't access it from my local machine\n",
    "3. give computer access to EC2: see [here](https://docs.ray.io/en/latest/cluster/running-applications/job-submission/ray-client.html#alternative-connection-approach)\n",
    "4. seems to be an issue with Ray client: see [here](https://github.com/ray-project/ray/issues/46731)"
   ]
  },
  {
   "cell_type": "code",
   "execution_count": null,
   "id": "ec009f02-2d9e-4267-b0b4-07d918966ab3",
   "metadata": {},
   "outputs": [],
   "source": []
  },
  {
   "cell_type": "code",
   "execution_count": null,
   "id": "41b1a6d0-dc77-47ea-806f-ab29ad2f1d41",
   "metadata": {},
   "outputs": [],
   "source": []
  },
  {
   "cell_type": "code",
   "execution_count": null,
   "id": "7ce94d97-777e-4dd7-8e64-1ca9b5f0031a",
   "metadata": {},
   "outputs": [],
   "source": []
  },
  {
   "cell_type": "markdown",
   "id": "7dfac7d6-7c09-4d81-b1d1-9e593e556b2d",
   "metadata": {},
   "source": [
    "## crunching data at scale"
   ]
  },
  {
   "cell_type": "code",
   "execution_count": 1,
   "id": "62ab2cf6-9052-4d6c-86f0-1e9d510ced92",
   "metadata": {},
   "outputs": [],
   "source": [
    "import daft"
   ]
  },
  {
   "cell_type": "code",
   "execution_count": 2,
   "id": "837985c9-04a0-4372-a859-cf5cdd44a49a",
   "metadata": {},
   "outputs": [
    {
     "ename": "RuntimeError",
     "evalue": "Requested 20031112971 bytes of memory but found only 17179869184 available",
     "output_type": "error",
     "traceback": [
      "\u001b[0;31m---------------------------------------------------------------------------\u001b[0m",
      "\u001b[0;31mRuntimeError\u001b[0m                              Traceback (most recent call last)",
      "Cell \u001b[0;32mIn[2], line 2\u001b[0m\n\u001b[1;32m      1\u001b[0m df \u001b[38;5;241m=\u001b[39m daft\u001b[38;5;241m.\u001b[39mread_parquet(\u001b[38;5;124m\"\u001b[39m\u001b[38;5;124m/Users/rpelgrim/Desktop/data/amex-default-kaggle/train_data.parquet\u001b[39m\u001b[38;5;124m\"\u001b[39m)\n\u001b[0;32m----> 2\u001b[0m \u001b[43mdf\u001b[49m\u001b[38;5;241;43m.\u001b[39;49m\u001b[43mshow\u001b[49m\u001b[43m(\u001b[49m\u001b[43m)\u001b[49m\n",
      "File \u001b[0;32m~/miniforge3/envs/daft-ray/lib/python3.11/site-packages/daft/api_annotations.py:26\u001b[0m, in \u001b[0;36mDataframePublicAPI.<locals>._wrap\u001b[0;34m(*args, **kwargs)\u001b[0m\n\u001b[1;32m     24\u001b[0m type_check_function(func, \u001b[38;5;241m*\u001b[39margs, \u001b[38;5;241m*\u001b[39m\u001b[38;5;241m*\u001b[39mkwargs)\n\u001b[1;32m     25\u001b[0m timed_method \u001b[38;5;241m=\u001b[39m time_df_method(func)\n\u001b[0;32m---> 26\u001b[0m \u001b[38;5;28;01mreturn\u001b[39;00m \u001b[43mtimed_method\u001b[49m\u001b[43m(\u001b[49m\u001b[38;5;241;43m*\u001b[39;49m\u001b[43margs\u001b[49m\u001b[43m,\u001b[49m\u001b[43m \u001b[49m\u001b[38;5;241;43m*\u001b[39;49m\u001b[38;5;241;43m*\u001b[39;49m\u001b[43mkwargs\u001b[49m\u001b[43m)\u001b[49m\n",
      "File \u001b[0;32m~/miniforge3/envs/daft-ray/lib/python3.11/site-packages/daft/analytics.py:202\u001b[0m, in \u001b[0;36mtime_df_method.<locals>.tracked_method\u001b[0;34m(*args, **kwargs)\u001b[0m\n\u001b[1;32m    200\u001b[0m start \u001b[38;5;241m=\u001b[39m time\u001b[38;5;241m.\u001b[39mtime()\n\u001b[1;32m    201\u001b[0m \u001b[38;5;28;01mtry\u001b[39;00m:\n\u001b[0;32m--> 202\u001b[0m     result \u001b[38;5;241m=\u001b[39m \u001b[43mmethod\u001b[49m\u001b[43m(\u001b[49m\u001b[38;5;241;43m*\u001b[39;49m\u001b[43margs\u001b[49m\u001b[43m,\u001b[49m\u001b[43m \u001b[49m\u001b[38;5;241;43m*\u001b[39;49m\u001b[38;5;241;43m*\u001b[39;49m\u001b[43mkwargs\u001b[49m\u001b[43m)\u001b[49m\n\u001b[1;32m    203\u001b[0m \u001b[38;5;28;01mexcept\u001b[39;00m \u001b[38;5;167;01mException\u001b[39;00m \u001b[38;5;28;01mas\u001b[39;00m e:\n\u001b[1;32m    204\u001b[0m     _ANALYTICS_CLIENT\u001b[38;5;241m.\u001b[39mtrack_df_method_call(\n\u001b[1;32m    205\u001b[0m         method_name\u001b[38;5;241m=\u001b[39mmethod\u001b[38;5;241m.\u001b[39m\u001b[38;5;18m__name__\u001b[39m, duration_seconds\u001b[38;5;241m=\u001b[39mtime\u001b[38;5;241m.\u001b[39mtime() \u001b[38;5;241m-\u001b[39m start, error\u001b[38;5;241m=\u001b[39m\u001b[38;5;28mstr\u001b[39m(\u001b[38;5;28mtype\u001b[39m(e)\u001b[38;5;241m.\u001b[39m\u001b[38;5;18m__name__\u001b[39m)\n\u001b[1;32m    206\u001b[0m     )\n",
      "File \u001b[0;32m~/miniforge3/envs/daft-ray/lib/python3.11/site-packages/daft/dataframe/dataframe.py:2403\u001b[0m, in \u001b[0;36mDataFrame.show\u001b[0;34m(self, n)\u001b[0m\n\u001b[1;32m   2390\u001b[0m \u001b[38;5;129m@DataframePublicAPI\u001b[39m\n\u001b[1;32m   2391\u001b[0m \u001b[38;5;28;01mdef\u001b[39;00m \u001b[38;5;21mshow\u001b[39m(\u001b[38;5;28mself\u001b[39m, n: \u001b[38;5;28mint\u001b[39m \u001b[38;5;241m=\u001b[39m \u001b[38;5;241m8\u001b[39m) \u001b[38;5;241m-\u001b[39m\u001b[38;5;241m>\u001b[39m \u001b[38;5;28;01mNone\u001b[39;00m:\n\u001b[1;32m   2392\u001b[0m \u001b[38;5;250m    \u001b[39m\u001b[38;5;124;03m\"\"\"Executes enough of the DataFrame in order to display the first ``n`` rows\u001b[39;00m\n\u001b[1;32m   2393\u001b[0m \n\u001b[1;32m   2394\u001b[0m \u001b[38;5;124;03m    If IPython is installed, this will use IPython's `display` utility to pretty-print in a\u001b[39;00m\n\u001b[0;32m   (...)\u001b[0m\n\u001b[1;32m   2401\u001b[0m \u001b[38;5;124;03m        n: number of rows to show. Defaults to 8.\u001b[39;00m\n\u001b[1;32m   2402\u001b[0m \u001b[38;5;124;03m    \"\"\"\u001b[39;00m\n\u001b[0;32m-> 2403\u001b[0m     dataframe_display \u001b[38;5;241m=\u001b[39m \u001b[38;5;28;43mself\u001b[39;49m\u001b[38;5;241;43m.\u001b[39;49m\u001b[43m_construct_show_display\u001b[49m\u001b[43m(\u001b[49m\u001b[43mn\u001b[49m\u001b[43m)\u001b[49m\n\u001b[1;32m   2404\u001b[0m     \u001b[38;5;28;01mtry\u001b[39;00m:\n\u001b[1;32m   2405\u001b[0m         \u001b[38;5;28;01mfrom\u001b[39;00m \u001b[38;5;21;01mIPython\u001b[39;00m\u001b[38;5;21;01m.\u001b[39;00m\u001b[38;5;21;01mdisplay\u001b[39;00m \u001b[38;5;28;01mimport\u001b[39;00m display\n",
      "File \u001b[0;32m~/miniforge3/envs/daft-ray/lib/python3.11/site-packages/daft/dataframe/dataframe.py:2360\u001b[0m, in \u001b[0;36mDataFrame._construct_show_display\u001b[0;34m(self, n)\u001b[0m\n\u001b[1;32m   2358\u001b[0m tables \u001b[38;5;241m=\u001b[39m []\n\u001b[1;32m   2359\u001b[0m seen \u001b[38;5;241m=\u001b[39m \u001b[38;5;241m0\u001b[39m\n\u001b[0;32m-> 2360\u001b[0m \u001b[43m\u001b[49m\u001b[38;5;28;43;01mfor\u001b[39;49;00m\u001b[43m \u001b[49m\u001b[43mtable\u001b[49m\u001b[43m \u001b[49m\u001b[38;5;129;43;01min\u001b[39;49;00m\u001b[43m \u001b[49m\u001b[43mget_context\u001b[49m\u001b[43m(\u001b[49m\u001b[43m)\u001b[49m\u001b[38;5;241;43m.\u001b[39;49m\u001b[43mrunner\u001b[49m\u001b[43m(\u001b[49m\u001b[43m)\u001b[49m\u001b[38;5;241;43m.\u001b[39;49m\u001b[43mrun_iter_tables\u001b[49m\u001b[43m(\u001b[49m\u001b[43mbuilder\u001b[49m\u001b[43m,\u001b[49m\u001b[43m \u001b[49m\u001b[43mresults_buffer_size\u001b[49m\u001b[38;5;241;43m=\u001b[39;49m\u001b[38;5;241;43m1\u001b[39;49m\u001b[43m)\u001b[49m\u001b[43m:\u001b[49m\n\u001b[1;32m   2361\u001b[0m \u001b[43m    \u001b[49m\u001b[43mtables\u001b[49m\u001b[38;5;241;43m.\u001b[39;49m\u001b[43mappend\u001b[49m\u001b[43m(\u001b[49m\u001b[43mtable\u001b[49m\u001b[43m)\u001b[49m\n\u001b[1;32m   2362\u001b[0m \u001b[43m    \u001b[49m\u001b[43mseen\u001b[49m\u001b[43m \u001b[49m\u001b[38;5;241;43m+\u001b[39;49m\u001b[38;5;241;43m=\u001b[39;49m\u001b[43m \u001b[49m\u001b[38;5;28;43mlen\u001b[39;49m\u001b[43m(\u001b[49m\u001b[43mtable\u001b[49m\u001b[43m)\u001b[49m\n",
      "File \u001b[0;32m~/miniforge3/envs/daft-ray/lib/python3.11/site-packages/daft/runners/pyrunner.py:218\u001b[0m, in \u001b[0;36mPyRunner.run_iter_tables\u001b[0;34m(self, builder, results_buffer_size)\u001b[0m\n\u001b[1;32m    215\u001b[0m \u001b[38;5;28;01mdef\u001b[39;00m \u001b[38;5;21mrun_iter_tables\u001b[39m(\n\u001b[1;32m    216\u001b[0m     \u001b[38;5;28mself\u001b[39m, builder: LogicalPlanBuilder, results_buffer_size: \u001b[38;5;28mint\u001b[39m \u001b[38;5;241m|\u001b[39m \u001b[38;5;28;01mNone\u001b[39;00m \u001b[38;5;241m=\u001b[39m \u001b[38;5;28;01mNone\u001b[39;00m\n\u001b[1;32m    217\u001b[0m ) \u001b[38;5;241m-\u001b[39m\u001b[38;5;241m>\u001b[39m Iterator[MicroPartition]:\n\u001b[0;32m--> 218\u001b[0m \u001b[43m    \u001b[49m\u001b[38;5;28;43;01mfor\u001b[39;49;00m\u001b[43m \u001b[49m\u001b[43mresult\u001b[49m\u001b[43m \u001b[49m\u001b[38;5;129;43;01min\u001b[39;49;00m\u001b[43m \u001b[49m\u001b[38;5;28;43mself\u001b[39;49m\u001b[38;5;241;43m.\u001b[39;49m\u001b[43mrun_iter\u001b[49m\u001b[43m(\u001b[49m\u001b[43mbuilder\u001b[49m\u001b[43m,\u001b[49m\u001b[43m \u001b[49m\u001b[43mresults_buffer_size\u001b[49m\u001b[38;5;241;43m=\u001b[39;49m\u001b[43mresults_buffer_size\u001b[49m\u001b[43m)\u001b[49m\u001b[43m:\u001b[49m\n\u001b[1;32m    219\u001b[0m \u001b[43m        \u001b[49m\u001b[38;5;28;43;01myield\u001b[39;49;00m\u001b[43m \u001b[49m\u001b[43mresult\u001b[49m\u001b[38;5;241;43m.\u001b[39;49m\u001b[43mpartition\u001b[49m\u001b[43m(\u001b[49m\u001b[43m)\u001b[49m\n",
      "File \u001b[0;32m~/miniforge3/envs/daft-ray/lib/python3.11/site-packages/daft/runners/pyrunner.py:213\u001b[0m, in \u001b[0;36mPyRunner.run_iter\u001b[0;34m(self, builder, results_buffer_size)\u001b[0m\n\u001b[1;32m    211\u001b[0m \u001b[38;5;28;01mwith\u001b[39;00m profiler(\u001b[38;5;124m\"\u001b[39m\u001b[38;5;124mprofile_PyRunner.run_\u001b[39m\u001b[38;5;124m{\u001b[39m\u001b[38;5;124mdatetime.now().isoformat()}.json\u001b[39m\u001b[38;5;124m\"\u001b[39m):\n\u001b[1;32m    212\u001b[0m     results_gen \u001b[38;5;241m=\u001b[39m \u001b[38;5;28mself\u001b[39m\u001b[38;5;241m.\u001b[39m_physical_plan_to_partitions(tasks)\n\u001b[0;32m--> 213\u001b[0m     \u001b[38;5;28;01myield from\u001b[39;00m results_gen\n",
      "File \u001b[0;32m~/miniforge3/envs/daft-ray/lib/python3.11/site-packages/daft/runners/pyrunner.py:250\u001b[0m, in \u001b[0;36mPyRunner._physical_plan_to_partitions\u001b[0;34m(self, plan)\u001b[0m\n\u001b[1;32m    246\u001b[0m     \u001b[38;5;28;01mcontinue\u001b[39;00m\n\u001b[1;32m    248\u001b[0m \u001b[38;5;28;01melse\u001b[39;00m:\n\u001b[1;32m    249\u001b[0m     \u001b[38;5;66;03m# next_task is a task to run.\u001b[39;00m\n\u001b[0;32m--> 250\u001b[0m     task_admitted \u001b[38;5;241m=\u001b[39m \u001b[38;5;28;43mself\u001b[39;49m\u001b[38;5;241;43m.\u001b[39;49m\u001b[43m_attempt_admit_task\u001b[49m\u001b[43m(\u001b[49m\n\u001b[1;32m    251\u001b[0m \u001b[43m        \u001b[49m\u001b[43mnext_step\u001b[49m\u001b[38;5;241;43m.\u001b[39;49m\u001b[43mresource_request\u001b[49m\u001b[43m,\u001b[49m\n\u001b[1;32m    252\u001b[0m \u001b[43m    \u001b[49m\u001b[43m)\u001b[49m\n\u001b[1;32m    254\u001b[0m     \u001b[38;5;28;01mif\u001b[39;00m \u001b[38;5;129;01mnot\u001b[39;00m task_admitted:\n\u001b[1;32m    255\u001b[0m         \u001b[38;5;66;03m# Insufficient resources; await some tasks.\u001b[39;00m\n\u001b[1;32m    256\u001b[0m         logger\u001b[38;5;241m.\u001b[39mdebug(\u001b[38;5;124m\"\u001b[39m\u001b[38;5;124mSkipping to wait on dispatched tasks: insufficient resources\u001b[39m\u001b[38;5;124m\"\u001b[39m)\n",
      "File \u001b[0;32m~/miniforge3/envs/daft-ray/lib/python3.11/site-packages/daft/runners/pyrunner.py:356\u001b[0m, in \u001b[0;36mPyRunner._attempt_admit_task\u001b[0;34m(self, resource_request)\u001b[0m\n\u001b[1;32m    352\u001b[0m \u001b[38;5;28;01mdef\u001b[39;00m \u001b[38;5;21m_attempt_admit_task\u001b[39m(\n\u001b[1;32m    353\u001b[0m     \u001b[38;5;28mself\u001b[39m,\n\u001b[1;32m    354\u001b[0m     resource_request: ResourceRequest,\n\u001b[1;32m    355\u001b[0m ) \u001b[38;5;241m-\u001b[39m\u001b[38;5;241m>\u001b[39m \u001b[38;5;28mbool\u001b[39m:\n\u001b[0;32m--> 356\u001b[0m     \u001b[38;5;28;43mself\u001b[39;49m\u001b[38;5;241;43m.\u001b[39;49m\u001b[43m_check_resource_requests\u001b[49m\u001b[43m(\u001b[49m\u001b[43mresource_request\u001b[49m\u001b[43m)\u001b[49m\n\u001b[1;32m    358\u001b[0m     \u001b[38;5;28;01mwith\u001b[39;00m \u001b[38;5;28mself\u001b[39m\u001b[38;5;241m.\u001b[39m_resource_accounting_lock:\n\u001b[1;32m    359\u001b[0m         memory_okay \u001b[38;5;241m=\u001b[39m (resource_request\u001b[38;5;241m.\u001b[39mmemory_bytes \u001b[38;5;129;01mor\u001b[39;00m \u001b[38;5;241m0\u001b[39m) \u001b[38;5;241m<\u001b[39m\u001b[38;5;241m=\u001b[39m \u001b[38;5;28mself\u001b[39m\u001b[38;5;241m.\u001b[39m_available_bytes_memory\n",
      "File \u001b[0;32m~/miniforge3/envs/daft-ray/lib/python3.11/site-packages/daft/runners/pyrunner.py:348\u001b[0m, in \u001b[0;36mPyRunner._check_resource_requests\u001b[0;34m(self, resource_request)\u001b[0m\n\u001b[1;32m    346\u001b[0m     \u001b[38;5;28;01mraise\u001b[39;00m \u001b[38;5;167;01mRuntimeError\u001b[39;00m(\u001b[38;5;124mf\u001b[39m\u001b[38;5;124m\"\u001b[39m\u001b[38;5;124mRequested \u001b[39m\u001b[38;5;132;01m{\u001b[39;00mresource_request\u001b[38;5;241m.\u001b[39mnum_gpus\u001b[38;5;132;01m}\u001b[39;00m\u001b[38;5;124m GPUs but found only \u001b[39m\u001b[38;5;132;01m{\u001b[39;00m\u001b[38;5;28mself\u001b[39m\u001b[38;5;241m.\u001b[39mnum_gpus\u001b[38;5;132;01m}\u001b[39;00m\u001b[38;5;124m available\u001b[39m\u001b[38;5;124m\"\u001b[39m)\n\u001b[1;32m    347\u001b[0m \u001b[38;5;28;01mif\u001b[39;00m resource_request\u001b[38;5;241m.\u001b[39mmemory_bytes \u001b[38;5;129;01mis\u001b[39;00m \u001b[38;5;129;01mnot\u001b[39;00m \u001b[38;5;28;01mNone\u001b[39;00m \u001b[38;5;129;01mand\u001b[39;00m resource_request\u001b[38;5;241m.\u001b[39mmemory_bytes \u001b[38;5;241m>\u001b[39m \u001b[38;5;28mself\u001b[39m\u001b[38;5;241m.\u001b[39mtotal_bytes_memory:\n\u001b[0;32m--> 348\u001b[0m     \u001b[38;5;28;01mraise\u001b[39;00m \u001b[38;5;167;01mRuntimeError\u001b[39;00m(\n\u001b[1;32m    349\u001b[0m         \u001b[38;5;124mf\u001b[39m\u001b[38;5;124m\"\u001b[39m\u001b[38;5;124mRequested \u001b[39m\u001b[38;5;132;01m{\u001b[39;00mresource_request\u001b[38;5;241m.\u001b[39mmemory_bytes\u001b[38;5;132;01m}\u001b[39;00m\u001b[38;5;124m bytes of memory but found only \u001b[39m\u001b[38;5;132;01m{\u001b[39;00m\u001b[38;5;28mself\u001b[39m\u001b[38;5;241m.\u001b[39mtotal_bytes_memory\u001b[38;5;132;01m}\u001b[39;00m\u001b[38;5;124m available\u001b[39m\u001b[38;5;124m\"\u001b[39m\n\u001b[1;32m    350\u001b[0m     )\n",
      "\u001b[0;31mRuntimeError\u001b[0m: Requested 20031112971 bytes of memory but found only 17179869184 available"
     ]
    }
   ],
   "source": [
    "df = daft.read_parquet(\"/Users/rpelgrim/Desktop/data/amex-default-kaggle/train_data.parquet\")\n",
    "df.show()"
   ]
  },
  {
   "cell_type": "code",
   "execution_count": 3,
   "id": "df0211f5-0d81-4842-bf11-f0028614c357",
   "metadata": {},
   "outputs": [
    {
     "data": {
      "application/vnd.jupyter.widget-view+json": {
       "model_id": "2e9589d431194db5a3a7fe3d73beb732",
       "version_major": 2,
       "version_minor": 0
      },
      "text/plain": [
       "ScanWithTask-Aggregate-Project [Stage:3]:   0%|          | 0/1 [00:00<?, ?it/s]"
      ]
     },
     "metadata": {},
     "output_type": "display_data"
    },
    {
     "data": {
      "text/plain": [
       "3376567"
      ]
     },
     "execution_count": 3,
     "metadata": {},
     "output_type": "execute_result"
    }
   ],
   "source": [
    "df.count_rows()"
   ]
  },
  {
   "cell_type": "code",
   "execution_count": 12,
   "id": "29cd4762-ca2e-4263-9bd5-c3e7c861055c",
   "metadata": {},
   "outputs": [
    {
     "data": {
      "application/vnd.jupyter.widget-view+json": {
       "model_id": "5b22327fa9db4b3581f124daea5443e1",
       "version_major": 2,
       "version_minor": 0
      },
      "text/plain": [
       "ScanWithTask-Project-Aggregate [Stage:9]:   0%|          | 0/1 [00:00<?, ?it/s]"
      ]
     },
     "metadata": {},
     "output_type": "display_data"
    },
    {
     "name": "stdout",
     "output_type": "stream",
     "text": [
      "CPU times: user 122 ms, sys: 36 ms, total: 158 ms\n",
      "Wall time: 88.3 ms\n"
     ]
    },
    {
     "data": {
      "text/html": [
       "<div>\n",
       "<table class=\"dataframe\">\n",
       "<thead><tr><th style=\"text-wrap: nowrap; max-width:192px; overflow:auto; text-align:left\">PULocationID<br />Int32</th><th style=\"text-wrap: nowrap; max-width:192px; overflow:auto; text-align:left\">trip_distance<br />Float64</th></tr></thead>\n",
       "<tbody>\n",
       "<tr><td><div style=\"text-align:left; max-width:192px; max-height:64px; overflow:auto\">118</div></td><td><div style=\"text-align:left; max-width:192px; max-height:64px; overflow:auto\">9.565</div></td></tr>\n",
       "<tr><td><div style=\"text-align:left; max-width:192px; max-height:64px; overflow:auto\">225</div></td><td><div style=\"text-align:left; max-width:192px; max-height:64px; overflow:auto\">4.886358595194083</div></td></tr>\n",
       "<tr><td><div style=\"text-align:left; max-width:192px; max-height:64px; overflow:auto\">50</div></td><td><div style=\"text-align:left; max-width:192px; max-height:64px; overflow:auto\">2.5892308819936516</div></td></tr>\n",
       "<tr><td><div style=\"text-align:left; max-width:192px; max-height:64px; overflow:auto\">173</div></td><td><div style=\"text-align:left; max-width:192px; max-height:64px; overflow:auto\">3.7306185567010304</div></td></tr>\n",
       "<tr><td><div style=\"text-align:left; max-width:192px; max-height:64px; overflow:auto\">220</div></td><td><div style=\"text-align:left; max-width:192px; max-height:64px; overflow:auto\">6.704313725490198</div></td></tr>\n",
       "<tr><td><div style=\"text-align:left; max-width:192px; max-height:64px; overflow:auto\">105</div></td><td><div style=\"text-align:left; max-width:192px; max-height:64px; overflow:auto\">1.69</div></td></tr>\n",
       "<tr><td><div style=\"text-align:left; max-width:192px; max-height:64px; overflow:auto\">152</div></td><td><div style=\"text-align:left; max-width:192px; max-height:64px; overflow:auto\">2.9719406737053826</div></td></tr>\n",
       "<tr><td><div style=\"text-align:left; max-width:192px; max-height:64px; overflow:auto\">257</div></td><td><div style=\"text-align:left; max-width:192px; max-height:64px; overflow:auto\">5.577619047619047</div></td></tr>\n",
       "</tbody>\n",
       "</table>\n",
       "<small>(Showing first 8 of 259 rows)</small>\n",
       "</div>"
      ],
      "text/plain": [
       "╭──────────────┬────────────────────╮\n",
       "│\u001b[1m PULocationID \u001b[0m┆\u001b[1m trip_distance      \u001b[0m│\n",
       "│\u001b[1m ---          \u001b[0m┆\u001b[1m ---                \u001b[0m│\n",
       "│\u001b[1m Int32        \u001b[0m┆\u001b[1m Float64            \u001b[0m│\n",
       "╞══════════════╪════════════════════╡\n",
       "│ 118          ┆ 9.565              │\n",
       "├╌╌╌╌╌╌╌╌╌╌╌╌╌╌┼╌╌╌╌╌╌╌╌╌╌╌╌╌╌╌╌╌╌╌╌┤\n",
       "│ 225          ┆ 4.886358595194083  │\n",
       "├╌╌╌╌╌╌╌╌╌╌╌╌╌╌┼╌╌╌╌╌╌╌╌╌╌╌╌╌╌╌╌╌╌╌╌┤\n",
       "│ 50           ┆ 2.5892308819936516 │\n",
       "├╌╌╌╌╌╌╌╌╌╌╌╌╌╌┼╌╌╌╌╌╌╌╌╌╌╌╌╌╌╌╌╌╌╌╌┤\n",
       "│ 173          ┆ 3.7306185567010304 │\n",
       "├╌╌╌╌╌╌╌╌╌╌╌╌╌╌┼╌╌╌╌╌╌╌╌╌╌╌╌╌╌╌╌╌╌╌╌┤\n",
       "│ 220          ┆ 6.704313725490198  │\n",
       "├╌╌╌╌╌╌╌╌╌╌╌╌╌╌┼╌╌╌╌╌╌╌╌╌╌╌╌╌╌╌╌╌╌╌╌┤\n",
       "│ 105          ┆ 1.69               │\n",
       "├╌╌╌╌╌╌╌╌╌╌╌╌╌╌┼╌╌╌╌╌╌╌╌╌╌╌╌╌╌╌╌╌╌╌╌┤\n",
       "│ 152          ┆ 2.9719406737053826 │\n",
       "├╌╌╌╌╌╌╌╌╌╌╌╌╌╌┼╌╌╌╌╌╌╌╌╌╌╌╌╌╌╌╌╌╌╌╌┤\n",
       "│ 257          ┆ 5.577619047619047  │\n",
       "╰──────────────┴────────────────────╯\n",
       "\n",
       "(Showing first 8 of 259 rows)"
      ]
     },
     "execution_count": 12,
     "metadata": {},
     "output_type": "execute_result"
    }
   ],
   "source": [
    "%%time\n",
    "df[\"PULocationID\", \"trip_distance\"].groupby(df[\"PULocationID\"]).mean().collect()"
   ]
  },
  {
   "cell_type": "code",
   "execution_count": 13,
   "id": "fe830eba-8208-4eb1-b239-32dbfae6978c",
   "metadata": {},
   "outputs": [],
   "source": [
    "import pandas as pd"
   ]
  },
  {
   "cell_type": "code",
   "execution_count": 15,
   "id": "ac648e94-ac79-4816-a42d-00bcbc1931ce",
   "metadata": {},
   "outputs": [
    {
     "data": {
      "text/html": [
       "<div>\n",
       "<style scoped>\n",
       "    .dataframe tbody tr th:only-of-type {\n",
       "        vertical-align: middle;\n",
       "    }\n",
       "\n",
       "    .dataframe tbody tr th {\n",
       "        vertical-align: top;\n",
       "    }\n",
       "\n",
       "    .dataframe thead th {\n",
       "        text-align: right;\n",
       "    }\n",
       "</style>\n",
       "<table border=\"1\" class=\"dataframe\">\n",
       "  <thead>\n",
       "    <tr style=\"text-align: right;\">\n",
       "      <th></th>\n",
       "      <th>VendorID</th>\n",
       "      <th>tpep_pickup_datetime</th>\n",
       "      <th>tpep_dropoff_datetime</th>\n",
       "      <th>passenger_count</th>\n",
       "      <th>trip_distance</th>\n",
       "      <th>RatecodeID</th>\n",
       "      <th>store_and_fwd_flag</th>\n",
       "      <th>PULocationID</th>\n",
       "      <th>DOLocationID</th>\n",
       "      <th>payment_type</th>\n",
       "      <th>fare_amount</th>\n",
       "      <th>extra</th>\n",
       "      <th>mta_tax</th>\n",
       "      <th>tip_amount</th>\n",
       "      <th>tolls_amount</th>\n",
       "      <th>improvement_surcharge</th>\n",
       "      <th>total_amount</th>\n",
       "      <th>congestion_surcharge</th>\n",
       "      <th>Airport_fee</th>\n",
       "    </tr>\n",
       "  </thead>\n",
       "  <tbody>\n",
       "    <tr>\n",
       "      <th>0</th>\n",
       "      <td>1</td>\n",
       "      <td>2023-12-01 00:06:06</td>\n",
       "      <td>2023-12-01 00:15:47</td>\n",
       "      <td>0.0</td>\n",
       "      <td>1.10</td>\n",
       "      <td>1.0</td>\n",
       "      <td>N</td>\n",
       "      <td>230</td>\n",
       "      <td>48</td>\n",
       "      <td>1</td>\n",
       "      <td>10.0</td>\n",
       "      <td>3.5</td>\n",
       "      <td>0.5</td>\n",
       "      <td>1.50</td>\n",
       "      <td>0.0</td>\n",
       "      <td>1.0</td>\n",
       "      <td>16.50</td>\n",
       "      <td>2.5</td>\n",
       "      <td>0.0</td>\n",
       "    </tr>\n",
       "    <tr>\n",
       "      <th>1</th>\n",
       "      <td>1</td>\n",
       "      <td>2023-12-01 00:22:26</td>\n",
       "      <td>2023-12-01 00:28:53</td>\n",
       "      <td>0.0</td>\n",
       "      <td>1.50</td>\n",
       "      <td>1.0</td>\n",
       "      <td>N</td>\n",
       "      <td>142</td>\n",
       "      <td>238</td>\n",
       "      <td>1</td>\n",
       "      <td>9.3</td>\n",
       "      <td>3.5</td>\n",
       "      <td>0.5</td>\n",
       "      <td>2.85</td>\n",
       "      <td>0.0</td>\n",
       "      <td>1.0</td>\n",
       "      <td>17.15</td>\n",
       "      <td>2.5</td>\n",
       "      <td>0.0</td>\n",
       "    </tr>\n",
       "    <tr>\n",
       "      <th>2</th>\n",
       "      <td>1</td>\n",
       "      <td>2023-12-01 00:59:44</td>\n",
       "      <td>2023-12-01 01:13:22</td>\n",
       "      <td>2.0</td>\n",
       "      <td>2.20</td>\n",
       "      <td>1.0</td>\n",
       "      <td>N</td>\n",
       "      <td>114</td>\n",
       "      <td>186</td>\n",
       "      <td>1</td>\n",
       "      <td>13.5</td>\n",
       "      <td>3.5</td>\n",
       "      <td>0.5</td>\n",
       "      <td>3.00</td>\n",
       "      <td>0.0</td>\n",
       "      <td>1.0</td>\n",
       "      <td>21.50</td>\n",
       "      <td>2.5</td>\n",
       "      <td>0.0</td>\n",
       "    </tr>\n",
       "    <tr>\n",
       "      <th>3</th>\n",
       "      <td>2</td>\n",
       "      <td>2023-12-01 00:22:17</td>\n",
       "      <td>2023-12-01 00:30:59</td>\n",
       "      <td>1.0</td>\n",
       "      <td>0.66</td>\n",
       "      <td>1.0</td>\n",
       "      <td>N</td>\n",
       "      <td>79</td>\n",
       "      <td>79</td>\n",
       "      <td>2</td>\n",
       "      <td>7.2</td>\n",
       "      <td>1.0</td>\n",
       "      <td>0.5</td>\n",
       "      <td>0.00</td>\n",
       "      <td>0.0</td>\n",
       "      <td>1.0</td>\n",
       "      <td>12.20</td>\n",
       "      <td>2.5</td>\n",
       "      <td>0.0</td>\n",
       "    </tr>\n",
       "    <tr>\n",
       "      <th>4</th>\n",
       "      <td>2</td>\n",
       "      <td>2023-12-01 00:18:16</td>\n",
       "      <td>2023-12-01 00:25:32</td>\n",
       "      <td>2.0</td>\n",
       "      <td>2.20</td>\n",
       "      <td>1.0</td>\n",
       "      <td>N</td>\n",
       "      <td>229</td>\n",
       "      <td>263</td>\n",
       "      <td>1</td>\n",
       "      <td>11.4</td>\n",
       "      <td>1.0</td>\n",
       "      <td>0.5</td>\n",
       "      <td>2.00</td>\n",
       "      <td>0.0</td>\n",
       "      <td>1.0</td>\n",
       "      <td>18.40</td>\n",
       "      <td>2.5</td>\n",
       "      <td>0.0</td>\n",
       "    </tr>\n",
       "  </tbody>\n",
       "</table>\n",
       "</div>"
      ],
      "text/plain": [
       "   VendorID tpep_pickup_datetime tpep_dropoff_datetime  passenger_count  \\\n",
       "0         1  2023-12-01 00:06:06   2023-12-01 00:15:47              0.0   \n",
       "1         1  2023-12-01 00:22:26   2023-12-01 00:28:53              0.0   \n",
       "2         1  2023-12-01 00:59:44   2023-12-01 01:13:22              2.0   \n",
       "3         2  2023-12-01 00:22:17   2023-12-01 00:30:59              1.0   \n",
       "4         2  2023-12-01 00:18:16   2023-12-01 00:25:32              2.0   \n",
       "\n",
       "   trip_distance  RatecodeID store_and_fwd_flag  PULocationID  DOLocationID  \\\n",
       "0           1.10         1.0                  N           230            48   \n",
       "1           1.50         1.0                  N           142           238   \n",
       "2           2.20         1.0                  N           114           186   \n",
       "3           0.66         1.0                  N            79            79   \n",
       "4           2.20         1.0                  N           229           263   \n",
       "\n",
       "   payment_type  fare_amount  extra  mta_tax  tip_amount  tolls_amount  \\\n",
       "0             1         10.0    3.5      0.5        1.50           0.0   \n",
       "1             1          9.3    3.5      0.5        2.85           0.0   \n",
       "2             1         13.5    3.5      0.5        3.00           0.0   \n",
       "3             2          7.2    1.0      0.5        0.00           0.0   \n",
       "4             1         11.4    1.0      0.5        2.00           0.0   \n",
       "\n",
       "   improvement_surcharge  total_amount  congestion_surcharge  Airport_fee  \n",
       "0                    1.0         16.50                   2.5          0.0  \n",
       "1                    1.0         17.15                   2.5          0.0  \n",
       "2                    1.0         21.50                   2.5          0.0  \n",
       "3                    1.0         12.20                   2.5          0.0  \n",
       "4                    1.0         18.40                   2.5          0.0  "
      ]
     },
     "execution_count": 15,
     "metadata": {},
     "output_type": "execute_result"
    }
   ],
   "source": [
    "df_pd = pd.read_parquet(\"/Users/rpelgrim/Desktop/data\")\n",
    "df_pd.head()"
   ]
  },
  {
   "cell_type": "code",
   "execution_count": 20,
   "id": "2d21cb1a-86fc-4167-a5dc-0f0df0abcf90",
   "metadata": {},
   "outputs": [
    {
     "name": "stdout",
     "output_type": "stream",
     "text": [
      "CPU times: user 36.6 ms, sys: 18.4 ms, total: 55 ms\n",
      "Wall time: 60.6 ms\n"
     ]
    },
    {
     "data": {
      "text/html": [
       "<div>\n",
       "<style scoped>\n",
       "    .dataframe tbody tr th:only-of-type {\n",
       "        vertical-align: middle;\n",
       "    }\n",
       "\n",
       "    .dataframe tbody tr th {\n",
       "        vertical-align: top;\n",
       "    }\n",
       "\n",
       "    .dataframe thead th {\n",
       "        text-align: right;\n",
       "    }\n",
       "</style>\n",
       "<table border=\"1\" class=\"dataframe\">\n",
       "  <thead>\n",
       "    <tr style=\"text-align: right;\">\n",
       "      <th></th>\n",
       "      <th>trip_distance</th>\n",
       "    </tr>\n",
       "    <tr>\n",
       "      <th>PULocationID</th>\n",
       "      <th></th>\n",
       "    </tr>\n",
       "  </thead>\n",
       "  <tbody>\n",
       "    <tr>\n",
       "      <th>1</th>\n",
       "      <td>0.670610</td>\n",
       "    </tr>\n",
       "    <tr>\n",
       "      <th>2</th>\n",
       "      <td>11.528000</td>\n",
       "    </tr>\n",
       "    <tr>\n",
       "      <th>3</th>\n",
       "      <td>6.619195</td>\n",
       "    </tr>\n",
       "    <tr>\n",
       "      <th>4</th>\n",
       "      <td>2.775195</td>\n",
       "    </tr>\n",
       "    <tr>\n",
       "      <th>5</th>\n",
       "      <td>0.000000</td>\n",
       "    </tr>\n",
       "    <tr>\n",
       "      <th>...</th>\n",
       "      <td>...</td>\n",
       "    </tr>\n",
       "    <tr>\n",
       "      <th>261</th>\n",
       "      <td>4.218589</td>\n",
       "    </tr>\n",
       "    <tr>\n",
       "      <th>262</th>\n",
       "      <td>2.361841</td>\n",
       "    </tr>\n",
       "    <tr>\n",
       "      <th>263</th>\n",
       "      <td>2.203261</td>\n",
       "    </tr>\n",
       "    <tr>\n",
       "      <th>264</th>\n",
       "      <td>3.154564</td>\n",
       "    </tr>\n",
       "    <tr>\n",
       "      <th>265</th>\n",
       "      <td>3.942625</td>\n",
       "    </tr>\n",
       "  </tbody>\n",
       "</table>\n",
       "<p>259 rows × 1 columns</p>\n",
       "</div>"
      ],
      "text/plain": [
       "              trip_distance\n",
       "PULocationID               \n",
       "1                  0.670610\n",
       "2                 11.528000\n",
       "3                  6.619195\n",
       "4                  2.775195\n",
       "5                  0.000000\n",
       "...                     ...\n",
       "261                4.218589\n",
       "262                2.361841\n",
       "263                2.203261\n",
       "264                3.154564\n",
       "265                3.942625\n",
       "\n",
       "[259 rows x 1 columns]"
      ]
     },
     "execution_count": 20,
     "metadata": {},
     "output_type": "execute_result"
    }
   ],
   "source": [
    "%%time\n",
    "df_pd[[\"PULocationID\", \"trip_distance\"]].groupby([\"PULocationID\"]).mean()"
   ]
  },
  {
   "cell_type": "code",
   "execution_count": null,
   "id": "910b757f-a642-4122-821e-d1713f2ddf3e",
   "metadata": {},
   "outputs": [],
   "source": []
  },
  {
   "cell_type": "code",
   "execution_count": null,
   "id": "40b7826f-7606-4a4d-b01b-30136c770228",
   "metadata": {},
   "outputs": [],
   "source": []
  },
  {
   "cell_type": "code",
   "execution_count": null,
   "id": "a39bc040-fbe3-4964-a267-cdeb540b031d",
   "metadata": {},
   "outputs": [],
   "source": []
  },
  {
   "cell_type": "code",
   "execution_count": null,
   "id": "e7a038fa-f3a9-40bd-83d3-ffcce7bdaca8",
   "metadata": {},
   "outputs": [],
   "source": []
  },
  {
   "cell_type": "code",
   "execution_count": null,
   "id": "ba28b7d0-acb4-4178-8796-4eb4f62a0c7c",
   "metadata": {},
   "outputs": [],
   "source": []
  },
  {
   "cell_type": "markdown",
   "id": "a7abf57e-eb5d-48c1-850e-81fedb349e53",
   "metadata": {},
   "source": [
    "To perform fast computations in parallel, Daft:\n",
    "- splits your data into partitions\n",
    "- performs lazy computation\n",
    "- uses a powerful query optimizer\n",
    "\n",
    "Performing computation in one massive operation on all of your data is slow. By splitting your data into smaller partitions, many smaller computations can happen at the same time. This is the basic premise of parallel computing.\n",
    "\n",
    "Daft performs lazy computations. This means that your computations are not executed immediately. Instead, every operation you define is entered into LogicalPlan wich will be executed when you explicitly ask Daft to do so.\n",
    "\n",
    "Daft uses a Query Optimizer to automatically rewrite queries to be as efficient as possible. When you tell Daft to run a computation, it will find the fastest way to do so. "
   ]
  },
  {
   "cell_type": "code",
   "execution_count": null,
   "id": "944bb87f-4095-4739-89ea-f1c5b80fef32",
   "metadata": {},
   "outputs": [],
   "source": [
    "# example of lazy + logicalplan + partitions"
   ]
  },
  {
   "cell_type": "markdown",
   "id": "96887583-424b-4987-a56a-2fb73b47b59b",
   "metadata": {},
   "source": [
    "All of these features make Daft a great library for fast local computation.\n",
    "\n",
    "But even the best laptop has its limits. \n",
    "\n",
    "Running Daft locally means you are ultimately still limited by the CPUs, memory, and GPUs available on your local setup. Sometimes you need more than that."
   ]
  },
  {
   "cell_type": "markdown",
   "id": "6388ce08-37c0-46b4-ac08-9aca27e154ed",
   "metadata": {},
   "source": [
    "## Local Multi Core"
   ]
  },
  {
   "cell_type": "markdown",
   "id": "00af77f9-e42e-4259-b19d-ca56e9b8fb1f",
   "metadata": {},
   "source": [
    "If you need to scale out beyond your local machine, Daft integrates seamlessly with [Ray](https://www.ray.io/). Ray is a distributed computing framework that scales across a cluster of machines. \n",
    "\n",
    "Here’s how you can connect Daft to a Ray cluster:\n",
    "\n",
    "```\n",
    "import daft\n",
    "\n",
    "daft.context.set_runner_ray()\n",
    "```\n",
    "\n",
    "From this point on, all of your Daft code will run on your Ray cluster."
   ]
  },
  {
   "cell_type": "code",
   "execution_count": null,
   "id": "8de8866e-43c8-4988-b762-3df6cd9ae184",
   "metadata": {},
   "outputs": [],
   "source": [
    "# demo how to do it"
   ]
  },
  {
   "cell_type": "code",
   "execution_count": null,
   "id": "37acbf73-c7fe-466d-aa31-0c202835e50f",
   "metadata": {},
   "outputs": [],
   "source": [
    "# demo that it's faster"
   ]
  },
  {
   "cell_type": "markdown",
   "id": "4fc47d42-bf7e-40da-a43a-24b7e4202529",
   "metadata": {},
   "source": [
    "If you don’t specify an address, Daft spins up a local Ray cluster automatically. This is great if you’re on a beefy machine like an AWS P3 with multiple GPUs, as Daft will parallelize computations. "
   ]
  },
  {
   "cell_type": "markdown",
   "id": "ff58774d-05d4-4c44-b26f-150e322f090c",
   "metadata": {},
   "source": [
    "## Distributed Cloud Computing with Ray"
   ]
  },
  {
   "cell_type": "markdown",
   "id": "50e335ab-55cc-45f8-bf1e-e472b0351288",
   "metadata": {},
   "source": [
    "Set the address manually to \n",
    "\n",
    "```\n",
    "daft.context.set_runner_ray(address=\"ray://<ip_address>:<port_number>\")\n",
    "```\n",
    "\n",
    "You can get the URL to your Ray cluster by running `ray get-head-ip <path/to/cluster-config.yaml>`"
   ]
  },
  {
   "cell_type": "code",
   "execution_count": 2,
   "id": "f564fbf0-242b-4a9a-8f66-b1a5eedd507f",
   "metadata": {},
   "outputs": [
    {
     "data": {
      "text/plain": [
       "DaftContext(_daft_execution_config=<daft.daft.PyDaftExecutionConfig object at 0x108365210>, _daft_planning_config=<daft.daft.PyDaftPlanningConfig object at 0x108365150>, _runner_config=_RayRunnerConfig(address='ray://10.0.12.239:8265', max_task_backlog=None), _disallow_set_runner=True, _runner=None)"
      ]
     },
     "execution_count": 2,
     "metadata": {},
     "output_type": "execute_result"
    }
   ],
   "source": [
    "daft.context.set_runner_ray(address=\"ray://10.0.12.239:8265\")"
   ]
  },
  {
   "cell_type": "code",
   "execution_count": null,
   "id": "d3b9a768-f678-4a69-8eb8-7652aeefeeeb",
   "metadata": {},
   "outputs": [],
   "source": []
  },
  {
   "cell_type": "markdown",
   "id": "43b3254f-46c1-46d9-9a3c-3588e55b10ea",
   "metadata": {},
   "source": [
    "- Built for the cloud: Record-setting I/O performance for integrations with S3 cloud storage\n"
   ]
  },
  {
   "cell_type": "code",
   "execution_count": null,
   "id": "112bbf1a-a29f-4ac5-b364-326b39831561",
   "metadata": {},
   "outputs": [],
   "source": []
  },
  {
   "cell_type": "code",
   "execution_count": null,
   "id": "bbbbe2a6-f338-48b6-a304-001b3c8e2d52",
   "metadata": {},
   "outputs": [],
   "source": []
  },
  {
   "cell_type": "code",
   "execution_count": null,
   "id": "05eec194-2ba2-4302-8d46-f5fe91b8b03b",
   "metadata": {},
   "outputs": [],
   "source": []
  },
  {
   "attachments": {
    "361d9824-353b-4dd9-80a9-0d6e1ec00179.png": {
     "image/png": "[encoded data removed]"
    }
   },
   "cell_type": "markdown",
   "id": "40c5f6d7-2c57-457b-b251-2bf2d8747f8b",
   "metadata": {},
   "source": [
    "### Launch Ray Cluster on AWS\n",
    "\n",
    "CONFIGS\n",
    "- No usable subnets found for node type ray.head.default, try manually creating an instance in your specified region to populate the list of subnets and trying this again. Note that the subnet must map public IPs on instance launch unless you set `use_internal_ips: true` in the `provider` config.\n",
    "  - create VPC\n",
    "- Node type `ray.head.default` has no ImageId in its node_config and no default AMI is available for the region `eu-north-1`. ImageId will need to be set manually in your cluster config.\n",
    "  - #Default AMI for us-west-2.\n",
    "            # Check https://github.com/ray-project/ray/blob/master/python/ray/autoscaler/_private/aws/config.py\n",
    "            # for default images for other zones.\n",
    "            ImageId: ami-0387d929287ab193e\n",
    "  - set for both head and workers\n",
    "\n",
    "Run `ray submit ray-cluster.yaml ray-example.py --start`\n",
    "\n",
    "This should output something like:\n",
    "\n",
    "```\n",
    "Cluster: aws-example-minimal\n",
    "\n",
    "2024-08-26 11:02:52,135\tINFO util.py:382 -- setting max workers for head node type to 0\n",
    "Checking AWS environment settings\n",
    "AWS config\n",
    "  IAM Profile: ray-autoscaler-v1 [default]\n",
    "  EC2 Key pair (all available node types): ray-autoscaler_eu-west-2 [default]\n",
    "  VPC Subnets (all available node types): subnet-0ed43a34b8fc9b4c8, subnet-03e34f19b93fa0b4d [default]\n",
    "  EC2 Security groups (all available node types): sg-08c5742de976e9972 [default]\n",
    "  EC2 AMI (all available node types): ami-094ba2b4651f761ca\n",
    "\n",
    "No head node found. Launching a new cluster. Confirm [y/N]: y [automatic, due to --yes]\n",
    "\n",
    "Usage stats collection is enabled. To disable this, add `--disable-usage-stats` to the command that starts the cluster, or run the following command: `ray disable-usage-stats` before starting the cluster. See https://docs.ray.io/en/master/cluster/usage-stats.html for more details.\n",
    "\n",
    "Acquiring an up-to-date head node\n",
    "  Launched 1 nodes [subnet_id=subnet-0ed43a34b8fc9b4c8]\n",
    "    Launched instance i-03b7fd4670619b81e [state=pending, info=pending]\n",
    "  Launched a new head node\n",
    "  Fetching the new head node\n",
    "\n",
    "<1/1> Setting up head node\n",
    "  Prepared bootstrap config\n",
    "  New status: waiting-for-ssh\n",
    "  [1/7] Waiting for SSH to become available\n",
    "    Running `uptime` as a test.\n",
    "    Fetched IP: 10.0.143.33\n",
    "ssh: connect to host 10.0.143.33 port 22: Operation timed out\n",
    "    SSH still not available (SSH command failed.), retrying in 5 seconds.\n",
    "```\n",
    "\n",
    "![image.png](attachment:361d9824-353b-4dd9-80a9-0d6e1ec00179.png)\n",
    "\n",
    "- hmmm my instance is available but my Ray script can't launch SSH commands. Something wrong with config?\n",
    "  - it's because i manually defined a keypair?\n",
    "  - see: # How Ray will authenticate with newly launched nodes. from [Ray docs](https://docs.ray.io/en/latest/cluster/vms/references/ray-cluster-configuration.html)\n",
    "auth:\n",
    "    ssh_user: ubuntu\n",
    "#By default Ray creates a new private keypair, but you can also use your own.\n",
    "#If you do so, make sure to also set \"KeyName\" in the head and worker node\n",
    "#configurations below.\n",
    "#ssh_private_key: /path/to/your/key.pem \n",
    "\n",
    "GET CLUSTER URL\n",
    "- d"
   ]
  },
  {
   "cell_type": "markdown",
   "id": "ede6e2ce-504e-4432-8f50-860253fb6619",
   "metadata": {},
   "source": [
    "### SSH not working\n",
    "- i've tried `ubuntu` and `ec2user` --nope\n",
    "- try a different region / default ami --nope\n",
    "  - try ray full-example and saturn example -- nope\n",
    "- subnet must map public IPs on instance launch? --YES\n",
    "  - i was using a default VPC with private and public subnet, it was prioritizing the private one, after deleting that one it works\n",
    " \n",
    "### Get Daft code to run on Ray cluster\n",
    "- pip install getdaft on worker and head nodes\n",
    "- "
   ]
  },
  {
   "cell_type": "code",
   "execution_count": null,
   "id": "226571c3-8202-4b54-be4f-769080751315",
   "metadata": {},
   "outputs": [],
   "source": []
  },
  {
   "cell_type": "code",
   "execution_count": null,
   "id": "8b4f5b90-dae3-47a6-aebc-0a82b807d061",
   "metadata": {},
   "outputs": [],
   "source": []
  },
  {
   "cell_type": "markdown",
   "id": "677cad68-bed6-4623-83d1-097cb872f3b5",
   "metadata": {},
   "source": [
    "## Submit Jobs to Ray Cluster\n",
    "\n",
    "with something like:\n",
    "\n",
    "```\n",
    "\n",
    "```"
   ]
  },
  {
   "cell_type": "code",
   "execution_count": null,
   "id": "ca134b7e-e7d8-4a33-902a-83211d22ded5",
   "metadata": {},
   "outputs": [],
   "source": []
  }
 ],
 "metadata": {
  "kernelspec": {
   "display_name": "Python 3 (ipykernel)",
   "language": "python",
   "name": "python3"
  },
  "language_info": {
   "codemirror_mode": {
    "name": "ipython",
    "version": 3
   },
   "file_extension": ".py",
   "mimetype": "text/x-python",
   "name": "python",
   "nbconvert_exporter": "python",
   "pygments_lexer": "ipython3",
   "version": "3.11.0"
  }
 },
 "nbformat": 4,
 "nbformat_minor": 5
}
